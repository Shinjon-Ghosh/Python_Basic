{
 "cells": [
  {
   "cell_type": "code",
   "execution_count": 1,
   "id": "52955d3b",
   "metadata": {},
   "outputs": [],
   "source": [
    "# modules we'll use\n",
    "import pandas as pd\n",
    "import numpy as np\n",
    "import seaborn as sns\n",
    "import datetime\n",
    "\n",
    "# read in our data\n",
    "landslides = pd.read_csv(\"catalog.csv\")\n",
    "\n",
    "# set seed for reproducibility\n",
    "np.random.seed(0)"
   ]
  },
  {
   "cell_type": "code",
   "execution_count": 2,
   "id": "c0ab9c49",
   "metadata": {},
   "outputs": [
    {
     "data": {
      "text/html": [
       "<div>\n",
       "<style scoped>\n",
       "    .dataframe tbody tr th:only-of-type {\n",
       "        vertical-align: middle;\n",
       "    }\n",
       "\n",
       "    .dataframe tbody tr th {\n",
       "        vertical-align: top;\n",
       "    }\n",
       "\n",
       "    .dataframe thead th {\n",
       "        text-align: right;\n",
       "    }\n",
       "</style>\n",
       "<table border=\"1\" class=\"dataframe\">\n",
       "  <thead>\n",
       "    <tr style=\"text-align: right;\">\n",
       "      <th></th>\n",
       "      <th>id</th>\n",
       "      <th>date</th>\n",
       "      <th>time</th>\n",
       "      <th>continent_code</th>\n",
       "      <th>country_name</th>\n",
       "      <th>country_code</th>\n",
       "      <th>state/province</th>\n",
       "      <th>population</th>\n",
       "      <th>city/town</th>\n",
       "      <th>distance</th>\n",
       "      <th>...</th>\n",
       "      <th>geolocation</th>\n",
       "      <th>hazard_type</th>\n",
       "      <th>landslide_type</th>\n",
       "      <th>landslide_size</th>\n",
       "      <th>trigger</th>\n",
       "      <th>storm_name</th>\n",
       "      <th>injuries</th>\n",
       "      <th>fatalities</th>\n",
       "      <th>source_name</th>\n",
       "      <th>source_link</th>\n",
       "    </tr>\n",
       "  </thead>\n",
       "  <tbody>\n",
       "    <tr>\n",
       "      <th>0</th>\n",
       "      <td>34</td>\n",
       "      <td>3/2/07</td>\n",
       "      <td>Night</td>\n",
       "      <td>NaN</td>\n",
       "      <td>United States</td>\n",
       "      <td>US</td>\n",
       "      <td>Virginia</td>\n",
       "      <td>16000</td>\n",
       "      <td>Cherry Hill</td>\n",
       "      <td>3.40765</td>\n",
       "      <td>...</td>\n",
       "      <td>(38.600900000000003, -77.268199999999993)</td>\n",
       "      <td>Landslide</td>\n",
       "      <td>Landslide</td>\n",
       "      <td>Small</td>\n",
       "      <td>Rain</td>\n",
       "      <td>NaN</td>\n",
       "      <td>NaN</td>\n",
       "      <td>NaN</td>\n",
       "      <td>NBC 4 news</td>\n",
       "      <td>http://www.nbc4.com/news/11186871/detail.html</td>\n",
       "    </tr>\n",
       "    <tr>\n",
       "      <th>1</th>\n",
       "      <td>42</td>\n",
       "      <td>3/22/07</td>\n",
       "      <td>NaN</td>\n",
       "      <td>NaN</td>\n",
       "      <td>United States</td>\n",
       "      <td>US</td>\n",
       "      <td>Ohio</td>\n",
       "      <td>17288</td>\n",
       "      <td>New Philadelphia</td>\n",
       "      <td>3.33522</td>\n",
       "      <td>...</td>\n",
       "      <td>(40.517499999999998, -81.430499999999995)</td>\n",
       "      <td>Landslide</td>\n",
       "      <td>Landslide</td>\n",
       "      <td>Small</td>\n",
       "      <td>Rain</td>\n",
       "      <td>NaN</td>\n",
       "      <td>NaN</td>\n",
       "      <td>NaN</td>\n",
       "      <td>Canton Rep.com</td>\n",
       "      <td>http://www.cantonrep.com/index.php?ID=345054&amp;C...</td>\n",
       "    </tr>\n",
       "    <tr>\n",
       "      <th>2</th>\n",
       "      <td>56</td>\n",
       "      <td>4/6/07</td>\n",
       "      <td>NaN</td>\n",
       "      <td>NaN</td>\n",
       "      <td>United States</td>\n",
       "      <td>US</td>\n",
       "      <td>Pennsylvania</td>\n",
       "      <td>15930</td>\n",
       "      <td>Wilkinsburg</td>\n",
       "      <td>2.91977</td>\n",
       "      <td>...</td>\n",
       "      <td>(40.4377, -79.915999999999997)</td>\n",
       "      <td>Landslide</td>\n",
       "      <td>Landslide</td>\n",
       "      <td>Small</td>\n",
       "      <td>Rain</td>\n",
       "      <td>NaN</td>\n",
       "      <td>NaN</td>\n",
       "      <td>NaN</td>\n",
       "      <td>The Pittsburgh Channel.com</td>\n",
       "      <td>https://web.archive.org/web/20080423132842/htt...</td>\n",
       "    </tr>\n",
       "    <tr>\n",
       "      <th>3</th>\n",
       "      <td>59</td>\n",
       "      <td>4/14/07</td>\n",
       "      <td>NaN</td>\n",
       "      <td>NaN</td>\n",
       "      <td>Canada</td>\n",
       "      <td>CA</td>\n",
       "      <td>Quebec</td>\n",
       "      <td>42786</td>\n",
       "      <td>Châteauguay</td>\n",
       "      <td>2.98682</td>\n",
       "      <td>...</td>\n",
       "      <td>(45.322600000000001, -73.777100000000004)</td>\n",
       "      <td>Landslide</td>\n",
       "      <td>Riverbank collapse</td>\n",
       "      <td>Small</td>\n",
       "      <td>Rain</td>\n",
       "      <td>NaN</td>\n",
       "      <td>NaN</td>\n",
       "      <td>NaN</td>\n",
       "      <td>Le Soleil</td>\n",
       "      <td>http://www.hebdos.net/lsc/edition162007/articl...</td>\n",
       "    </tr>\n",
       "    <tr>\n",
       "      <th>4</th>\n",
       "      <td>61</td>\n",
       "      <td>4/15/07</td>\n",
       "      <td>NaN</td>\n",
       "      <td>NaN</td>\n",
       "      <td>United States</td>\n",
       "      <td>US</td>\n",
       "      <td>Kentucky</td>\n",
       "      <td>6903</td>\n",
       "      <td>Pikeville</td>\n",
       "      <td>5.66542</td>\n",
       "      <td>...</td>\n",
       "      <td>(37.432499999999997, -82.493099999999998)</td>\n",
       "      <td>Landslide</td>\n",
       "      <td>Landslide</td>\n",
       "      <td>Small</td>\n",
       "      <td>Downpour</td>\n",
       "      <td>NaN</td>\n",
       "      <td>NaN</td>\n",
       "      <td>0.0</td>\n",
       "      <td>Matthew Crawford (KGS)</td>\n",
       "      <td>NaN</td>\n",
       "    </tr>\n",
       "  </tbody>\n",
       "</table>\n",
       "<p>5 rows × 23 columns</p>\n",
       "</div>"
      ],
      "text/plain": [
       "   id     date   time continent_code   country_name country_code  \\\n",
       "0  34   3/2/07  Night            NaN  United States           US   \n",
       "1  42  3/22/07    NaN            NaN  United States           US   \n",
       "2  56   4/6/07    NaN            NaN  United States           US   \n",
       "3  59  4/14/07    NaN            NaN         Canada           CA   \n",
       "4  61  4/15/07    NaN            NaN  United States           US   \n",
       "\n",
       "  state/province  population         city/town  distance  ...  \\\n",
       "0       Virginia       16000       Cherry Hill   3.40765  ...   \n",
       "1           Ohio       17288  New Philadelphia   3.33522  ...   \n",
       "2   Pennsylvania       15930       Wilkinsburg   2.91977  ...   \n",
       "3         Quebec       42786       Châteauguay   2.98682  ...   \n",
       "4       Kentucky        6903         Pikeville   5.66542  ...   \n",
       "\n",
       "                                 geolocation  hazard_type      landslide_type  \\\n",
       "0  (38.600900000000003, -77.268199999999993)    Landslide           Landslide   \n",
       "1  (40.517499999999998, -81.430499999999995)    Landslide           Landslide   \n",
       "2             (40.4377, -79.915999999999997)    Landslide           Landslide   \n",
       "3  (45.322600000000001, -73.777100000000004)    Landslide  Riverbank collapse   \n",
       "4  (37.432499999999997, -82.493099999999998)    Landslide           Landslide   \n",
       "\n",
       "  landslide_size   trigger storm_name injuries fatalities  \\\n",
       "0          Small      Rain        NaN      NaN        NaN   \n",
       "1          Small      Rain        NaN      NaN        NaN   \n",
       "2          Small      Rain        NaN      NaN        NaN   \n",
       "3          Small      Rain        NaN      NaN        NaN   \n",
       "4          Small  Downpour        NaN      NaN        0.0   \n",
       "\n",
       "                  source_name  \\\n",
       "0                  NBC 4 news   \n",
       "1              Canton Rep.com   \n",
       "2  The Pittsburgh Channel.com   \n",
       "3                   Le Soleil   \n",
       "4      Matthew Crawford (KGS)   \n",
       "\n",
       "                                         source_link  \n",
       "0      http://www.nbc4.com/news/11186871/detail.html  \n",
       "1  http://www.cantonrep.com/index.php?ID=345054&C...  \n",
       "2  https://web.archive.org/web/20080423132842/htt...  \n",
       "3  http://www.hebdos.net/lsc/edition162007/articl...  \n",
       "4                                                NaN  \n",
       "\n",
       "[5 rows x 23 columns]"
      ]
     },
     "execution_count": 2,
     "metadata": {},
     "output_type": "execute_result"
    }
   ],
   "source": [
    "landslides.head()"
   ]
  },
  {
   "cell_type": "code",
   "execution_count": 3,
   "id": "5b8d3466",
   "metadata": {},
   "outputs": [
    {
     "data": {
      "text/plain": [
       "(1693, 23)"
      ]
     },
     "execution_count": 3,
     "metadata": {},
     "output_type": "execute_result"
    }
   ],
   "source": [
    "landslides.shape"
   ]
  },
  {
   "cell_type": "code",
   "execution_count": 4,
   "id": "94ded559",
   "metadata": {},
   "outputs": [
    {
     "data": {
      "text/plain": [
       "Index(['id', 'date', 'time', 'continent_code', 'country_name', 'country_code',\n",
       "       'state/province', 'population', 'city/town', 'distance',\n",
       "       'location_description', 'latitude', 'longitude', 'geolocation',\n",
       "       'hazard_type', 'landslide_type', 'landslide_size', 'trigger',\n",
       "       'storm_name', 'injuries', 'fatalities', 'source_name', 'source_link'],\n",
       "      dtype='object')"
      ]
     },
     "execution_count": 4,
     "metadata": {},
     "output_type": "execute_result"
    }
   ],
   "source": [
    "landslides.columns"
   ]
  },
  {
   "cell_type": "code",
   "execution_count": 5,
   "id": "e608a712",
   "metadata": {},
   "outputs": [
    {
     "data": {
      "text/plain": [
       "id                        int64\n",
       "date                     object\n",
       "time                     object\n",
       "continent_code           object\n",
       "country_name             object\n",
       "country_code             object\n",
       "state/province           object\n",
       "population                int64\n",
       "city/town                object\n",
       "distance                float64\n",
       "location_description     object\n",
       "latitude                float64\n",
       "longitude               float64\n",
       "geolocation              object\n",
       "hazard_type              object\n",
       "landslide_type           object\n",
       "landslide_size           object\n",
       "trigger                  object\n",
       "storm_name               object\n",
       "injuries                float64\n",
       "fatalities              float64\n",
       "source_name              object\n",
       "source_link              object\n",
       "dtype: object"
      ]
     },
     "execution_count": 5,
     "metadata": {},
     "output_type": "execute_result"
    }
   ],
   "source": [
    "landslides.dtypes"
   ]
  },
  {
   "cell_type": "code",
   "execution_count": 9,
   "id": "ce73edd3",
   "metadata": {},
   "outputs": [
    {
     "data": {
      "text/plain": [
       "922"
      ]
     },
     "execution_count": 9,
     "metadata": {},
     "output_type": "execute_result"
    }
   ],
   "source": [
    "landslides.date.nunique()"
   ]
  },
  {
   "cell_type": "code",
   "execution_count": 8,
   "id": "67b43b09",
   "metadata": {},
   "outputs": [
    {
     "data": {
      "text/plain": [
       "array(['3/2/07', '3/22/07', '4/6/07', '4/14/07', '4/15/07', '4/20/07',\n",
       "       '4/24/07', '5/21/07', '6/27/07', '7/1/07', '7/4/07', '7/8/07',\n",
       "       '7/13/07', '7/24/07', '8/9/07', '8/11/07', '8/14/07', '8/17/07',\n",
       "       '8/18/07', '8/19/07', '8/20/07', '8/21/07', '8/23/07', '9/1/07',\n",
       "       '9/2/07', '9/3/07', '9/4/07', '9/5/07', '9/6/07', '9/9/07',\n",
       "       '9/17/07', '9/22/07', '9/28/07', '10/8/07', '10/9/07', '10/11/07',\n",
       "       '10/12/07', '10/13/07', '10/17/07', '10/24/07', '10/29/07',\n",
       "       '10/31/07', '11/1/07', '11/4/07', '11/12/07', '11/17/07',\n",
       "       '11/30/07', '12/8/07', '12/11/07', '12/12/07', '12/16/07',\n",
       "       '12/19/07', '1/1/08', '1/6/08', '1/7/08', '1/28/08', '2/5/08',\n",
       "       '2/9/08', '2/28/08', '3/4/08', '3/5/08', '3/9/08', '3/10/08',\n",
       "       '3/14/08', '3/16/08', '3/24/08', '3/28/08', '4/1/08', '4/8/08',\n",
       "       '4/11/08', '4/13/08', '4/16/08', '4/20/08', '4/25/08', '4/29/08',\n",
       "       '5/9/08', '5/12/08', '5/20/08', '5/28/08', '5/29/08', '5/31/08',\n",
       "       '6/1/08', '6/2/08', '6/7/08', '6/16/08', '6/18/08', '6/20/08',\n",
       "       '6/24/08', '6/29/08', '7/5/08', '7/9/08', '7/13/08', '7/14/08',\n",
       "       '7/16/08', '7/17/08', '7/21/08', '7/22/08', '7/28/08', '8/4/08',\n",
       "       '8/6/08', '8/7/08', '8/8/08', '8/17/08', '8/18/08', '8/23/08',\n",
       "       '8/24/08', '8/25/08', '8/26/08', '8/28/08', '9/3/08', '9/4/08',\n",
       "       '9/6/08', '9/7/08', '9/20/08', '10/3/08', '10/12/08', '10/15/08',\n",
       "       '10/16/08', '10/18/08', '10/19/08', '10/20/08', '10/22/08',\n",
       "       '10/28/08', '11/16/08', '11/20/08', '11/24/08', '11/25/08',\n",
       "       '11/26/08', '12/14/08', '12/17/08', '12/18/08', '12/19/08',\n",
       "       '12/20/08', '12/22/08', '1/7/09', '1/22/09', '2/12/09', '3/10/09',\n",
       "       '3/19/09', '4/8/09', '4/11/09', '4/13/09', '4/14/09', '4/15/09',\n",
       "       '4/20/09', '4/24/09', '5/4/09', '5/6/09', '5/8/09', '5/11/09',\n",
       "       '5/17/09', '5/30/09', '6/18/09', '6/19/09', '6/21/09', '7/31/09',\n",
       "       '8/19/09', '8/20/09', '8/21/09', '9/1/09', '9/7/09', '9/11/09',\n",
       "       '9/15/09', '9/20/09', '9/21/09', '12/28/09', '9/26/09', '10/12/09',\n",
       "       '10/17/09', '10/20/09', '11/8/09', '11/11/09', '11/13/09',\n",
       "       '11/17/09', '12/9/09', '12/12/09', '12/13/09', '12/18/09',\n",
       "       '1/10/10', '1/21/10', '1/22/10', '1/24/10', '1/25/10', '1/26/10',\n",
       "       '1/28/10', '2/3/10', '2/4/10', '2/5/10', '2/6/10', '2/8/10',\n",
       "       '2/15/10', '2/25/10', '2/27/10', '3/11/10', '3/12/10', '3/13/10',\n",
       "       '3/14/10', '3/15/10', '3/16/10', '3/18/10', '3/21/10', '3/25/10',\n",
       "       '3/26/10', '3/29/10', '3/30/10', '3/31/10', '4/1/10', '4/2/10',\n",
       "       '4/7/10', '4/12/10', '4/14/10', '4/16/10', '4/18/10', '4/25/10',\n",
       "       '4/27/10', '5/2/10', '5/3/10', '5/4/10', '5/5/10', '5/9/10',\n",
       "       '5/10/10', '5/14/10', '5/16/10', '5/17/10', '5/22/10', '5/23/10',\n",
       "       '5/24/10', '5/26/10', '5/27/10', '5/29/10', '5/30/10', '6/5/10',\n",
       "       '6/7/10', '6/13/10', '6/21/10', '6/23/10', '6/27/10', '6/28/10',\n",
       "       '7/2/10', '7/12/10', '7/13/10', '7/16/10', '7/18/10', '7/20/10',\n",
       "       '7/21/10', '7/22/10', '7/23/10', '7/26/10', '7/27/10', '7/29/10',\n",
       "       '7/30/10', '7/31/10', '8/1/10', '8/2/10', '8/3/10', '8/5/10',\n",
       "       '8/6/10', '8/7/10', '8/9/10', '8/11/10', '8/18/10', '8/19/10',\n",
       "       '8/20/10', '8/21/10', '8/24/10', '8/25/10', '8/28/10', '8/29/10',\n",
       "       '9/3/10', '9/4/10', '9/10/10', '9/11/10', '9/13/10', '9/17/10',\n",
       "       '9/19/10', '9/20/10', '9/22/10', '9/23/10', '9/26/10', '9/27/10',\n",
       "       '9/28/10', '9/29/10', '9/30/10', '10/1/10', '10/3/10', '10/4/10',\n",
       "       '10/5/10', '10/6/10', '10/7/10', '10/15/10', '10/17/10',\n",
       "       '10/18/10', '10/19/10', '10/25/10', '10/30/10', '10/31/10',\n",
       "       '11/4/10', '11/5/10', '11/7/10', '11/13/10', '11/16/10',\n",
       "       '11/17/10', '11/18/10', '11/20/10', '11/21/10', '11/25/10',\n",
       "       '11/26/10', '11/27/10', '11/29/10', '11/30/10', '12/1/10',\n",
       "       '12/5/10', '12/7/10', '12/8/10', '12/9/10', '12/19/10', '12/20/10',\n",
       "       '12/21/10', '12/22/10', '12/23/10', '12/28/10', '1/2/11', '1/9/11',\n",
       "       '1/11/11', '1/16/11', '1/18/11', '1/30/11', '2/5/11', '2/14/11',\n",
       "       '2/16/11', '2/18/11', '3/2/11', '3/3/11', '3/6/11', '3/7/11',\n",
       "       '3/8/11', '3/9/11', '3/10/11', '3/11/11', '3/12/11', '3/13/11',\n",
       "       '3/15/11', '3/16/11', '3/18/11', '3/20/11', '3/21/11', '3/26/11',\n",
       "       '3/28/11', '4/5/11', '4/6/11', '4/8/11', '4/9/11', '4/10/11',\n",
       "       '4/11/11', '4/12/11', '4/13/11', '4/14/11', '4/15/11', '4/16/11',\n",
       "       '4/17/11', '4/21/11', '4/22/11', '4/23/11', '4/24/11', '4/25/11',\n",
       "       '4/26/11', '4/27/11', '4/28/11', '4/29/11', '4/30/11', '5/1/11',\n",
       "       '5/3/11', '5/2/11', '5/4/11', '5/5/11', '5/8/11', '5/10/11',\n",
       "       '5/11/11', '5/12/11', '5/13/11', '5/15/11', '5/16/11', '5/17/11',\n",
       "       '5/18/11', '5/19/11', '5/20/11', '5/21/11', '5/22/11', '5/23/11',\n",
       "       '5/25/11', '5/27/11', '5/28/11', '5/29/11', '5/30/11', '6/2/11',\n",
       "       '6/3/11', '6/5/11', '6/6/11', '6/7/11', '6/11/11', '6/12/11',\n",
       "       '6/18/11', '6/20/11', '6/22/11', '6/27/11', '7/1/11', '7/3/11',\n",
       "       '7/4/11', '7/5/11', '7/6/11', '7/7/11', '7/9/11', '7/10/11',\n",
       "       '7/11/11', '7/12/11', '7/13/11', '7/14/11', '7/15/11', '7/17/11',\n",
       "       '7/18/11', '7/19/11', '7/21/11', '7/22/11', '7/25/11', '7/27/11',\n",
       "       '7/30/11', '8/1/11', '8/3/11', '8/5/11', '8/8/11', '8/11/11',\n",
       "       '8/15/11', '9/1/11', '9/8/11', '9/20/11', '9/25/11', '9/26/11',\n",
       "       '9/27/11', '10/7/11', '10/8/11', '10/10/11', '10/12/11',\n",
       "       '10/15/11', '10/25/11', '10/31/11', '11/4/11', '11/17/11',\n",
       "       '11/18/11', '11/22/11', '11/24/11', '11/29/11', '11/30/11',\n",
       "       '12/2/11', '12/4/11', '12/6/11', '12/7/11', '12/8/11', '12/13/11',\n",
       "       '12/15/11', '12/16/11', '12/23/11', '12/25/11', '12/30/11',\n",
       "       '1/9/12', '1/11/12', '1/27/12', '2/15/12', '3/2/12', '3/8/12',\n",
       "       '3/9/12', '3/13/12', '3/15/12', '3/22/12', '3/24/12', '3/30/12',\n",
       "       '4/8/12', '4/12/12', '4/18/12', '4/22/12', '5/1/12', '5/5/12',\n",
       "       '5/6/12', '5/13/12', '5/15/12', '5/24/12', '5/30/12', '5/31/12',\n",
       "       '6/14/12', '6/15/12', '7/6/12', '7/9/12', '8/12/12', '8/14/12',\n",
       "       '8/17/12', '8/23/12', '8/27/12', '9/1/12', '9/2/12', '9/7/12',\n",
       "       '9/16/12', '9/18/12', '9/27/12', '10/7/12', '10/17/12', '10/23/12',\n",
       "       '10/30/12', '11/1/12', '11/2/12', '11/14/12', '11/25/12',\n",
       "       '11/27/12', '11/28/12', '12/2/12', '12/5/12', '12/21/12',\n",
       "       '12/25/12', '12/29/12', '1/13/13', '1/14/13', '1/15/13', '1/16/13',\n",
       "       '1/17/13', '1/18/13', '1/24/13', '1/30/13', '2/20/13', '3/12/13',\n",
       "       '3/18/13', '3/28/13', '4/10/13', '4/15/13', '4/17/13', '4/18/13',\n",
       "       '4/23/13', '4/25/13', '4/26/13', '4/29/13', '4/30/13', '5/6/13',\n",
       "       '5/7/13', '5/8/13', '5/13/13', '5/15/13', '5/19/13', '5/22/13',\n",
       "       '5/26/13', '5/27/13', '5/28/13', '5/29/13', '5/31/13', '6/1/13',\n",
       "       '6/6/13', '6/7/13', '6/10/13', '6/13/13', '6/14/13', '6/16/13',\n",
       "       '6/17/13', '6/18/13', '6/23/13', '6/24/13', '6/25/13', '6/26/13',\n",
       "       '6/27/13', '6/28/13', '6/29/13', '7/1/13', '7/3/13', '7/4/13',\n",
       "       '7/5/13', '7/6/13', '7/7/13', '7/8/13', '7/9/13', '7/10/13',\n",
       "       '7/11/13', '7/12/13', '7/14/13', '7/15/13', '7/16/13', '7/17/13',\n",
       "       '7/18/13', '7/19/13', '7/20/13', '7/22/13', '7/23/13', '7/24/13',\n",
       "       '7/25/13', '7/27/13', '7/28/13', '7/31/13', '8/1/13', '8/9/13',\n",
       "       '8/13/13', '8/17/13', '8/18/13', '8/22/13', '8/23/13', '8/24/13',\n",
       "       '8/25/13', '8/26/13', '8/27/13', '8/28/13', '8/29/13', '8/30/13',\n",
       "       '9/2/13', '9/5/13', '9/6/13', '9/7/13', '9/8/13', '9/9/13',\n",
       "       '9/10/13', '9/11/13', '9/12/13', '9/13/13', '9/14/13', '9/15/13',\n",
       "       '9/16/13', '9/18/13', '9/19/13', '9/29/13', '9/30/13', '10/3/13',\n",
       "       '10/5/13', '10/8/13', '11/14/13', '11/20/13', '11/27/13',\n",
       "       '12/6/13', '12/7/13', '12/10/13', '12/11/13', '12/12/13',\n",
       "       '12/16/13', '12/19/13', '12/21/13', '12/22/13', '12/24/13',\n",
       "       '12/27/13', '12/28/13', '12/30/13', '1/2/14', '1/7/14', '1/14/14',\n",
       "       '2/5/14', '2/11/14', '2/14/14', '2/15/14', '2/21/14', '2/22/14',\n",
       "       '2/23/14', '2/27/14', '3/3/14', '3/4/14', '3/12/14', '3/13/14',\n",
       "       '3/14/14', '3/15/14', '3/16/14', '3/17/14', '3/20/14', '3/26/14',\n",
       "       '3/29/14', '4/4/14', '4/6/14', '4/7/14', '4/8/14', '4/9/14',\n",
       "       '4/12/14', '5/1/14', '4/30/14', '5/13/14', '5/15/14', '5/16/14',\n",
       "       '5/25/14', '5/27/14', '5/30/14', '6/1/14', '6/5/14', '6/10/14',\n",
       "       '6/15/14', '6/18/14', '6/19/14', '6/20/14', '6/23/14', '6/25/14',\n",
       "       '6/27/14', '6/29/14', '7/2/14', '7/7/14', '7/12/14', '7/15/14',\n",
       "       '7/19/14', '7/20/14', '7/28/14', '8/3/14', '5/20/14', '10/4/14',\n",
       "       '10/7/14', '9/24/14', '4/17/14', '10/14/14', '10/13/14', '6/1/07',\n",
       "       '8/5/14', '10/18/14', '10/16/14', '9/19/14', '10/23/14', '6/11/09',\n",
       "       '10/20/14', '10/21/14', '9/16/14', '9/7/14', '11/1/14', '1/15/14',\n",
       "       '9/8/14', '11/4/14', '9/3/14', '8/4/14', '8/23/14', '11/9/14',\n",
       "       '11/17/14', '11/21/14', '11/28/14', '8/28/14', '12/4/14',\n",
       "       '12/3/14', '8/1/14', '12/9/14', '8/10/14', '8/11/14', '8/12/14',\n",
       "       '12/6/14', '12/13/14', '8/13/14', '8/14/14', '8/18/14', '8/21/14',\n",
       "       '8/22/14', '12/21/14', '1/16/14', '5/11/08', '1/4/14', '12/25/14',\n",
       "       '12/27/14', '1/3/15', '9/23/14', '12/20/14', '5/21/14', '7/4/14',\n",
       "       '9/27/14', '10/31/14', '6/24/14', '11/14/14', '9/29/14', '5/22/14',\n",
       "       '4/21/14', '10/15/14', '10/12/14', '1/5/14', '7/31/14', '11/19/14',\n",
       "       '11/23/14', '10/9/14', '9/13/14', '11/3/14', '9/12/14', '9/25/14',\n",
       "       '9/14/14', '5/9/14', '6/17/14', '8/17/14', '11/7/14', '5/18/14',\n",
       "       '8/24/14', '1/21/15', '1/28/15', '2/1/15', '2/6/15', '2/21/15',\n",
       "       '2/23/15', '3/2/15', '3/4/15', '3/5/15', '3/3/15', '3/6/15',\n",
       "       '3/9/15', '3/7/15', '3/10/15', '3/12/15', '3/11/15', '3/15/15',\n",
       "       '3/17/15', '3/18/15', '3/21/15', '5/18/15', '3/20/15', '3/14/15',\n",
       "       '6/19/15', '6/17/15', '6/21/15', '6/18/15', '6/16/15', '6/15/15',\n",
       "       '6/10/15', '6/13/15', '6/23/15', '6/5/15', '4/29/15', '6/3/15',\n",
       "       '6/27/15', '6/2/15', '5/30/15', '5/31/15', '5/29/15', '6/24/15',\n",
       "       nan, '5/23/15', '5/11/15', '5/21/15', '5/20/15', '5/19/15',\n",
       "       '5/17/15', '5/13/15', '5/10/15', '5/9/15', '7/2/15', '7/3/15',\n",
       "       '6/30/15', '7/8/15', '7/7/15', '4/27/15', '4/23/15', '4/20/15',\n",
       "       '4/19/15', '4/17/15', '4/18/15', '4/14/15', '4/11/15', '4/10/15',\n",
       "       '7/12/15', '7/6/15', '4/3/15', '4/2/15', '7/13/15', '7/14/15',\n",
       "       '7/11/15', '7/19/15', '7/18/15', '7/10/15', '7/21/15', '7/27/15',\n",
       "       '8/13/15', '8/15/15', '10/1/15', '10/2/15', '10/19/15', '8/9/15',\n",
       "       '4/13/07', '1/29/16', '8/2/15', '6/6/15', '9/27/15', '11/23/15',\n",
       "       '10/7/15', '9/23/15', '10/15/15', '5/4/15', '11/24/15', '9/6/15',\n",
       "       '10/6/15', '11/3/15', '11/4/15', '6/9/15', '10/29/15', '9/17/15',\n",
       "       '9/28/15', '6/11/15', '12/15/15', '9/7/15', '11/16/15', '10/16/15',\n",
       "       '11/21/15', '9/25/15', '9/24/15', '10/21/15', '1/22/15',\n",
       "       '12/16/15', '10/8/15', '2/19/16', '12/1/15', '6/12/15', '10/3/15',\n",
       "       '7/23/15', '9/9/15', '9/20/15', '10/27/15', '11/18/15', '11/5/15',\n",
       "       '11/11/15', '6/29/15', '12/21/15', '5/24/15', '2/10/15',\n",
       "       '11/22/15', '8/26/15', '9/10/15', '8/31/15', '9/22/15', '9/12/15',\n",
       "       '2/24/16', '2/15/16', '2/21/16', '1/28/16', '2/27/16', '2/14/16',\n",
       "       '2/26/16', '11/29/15', '12/7/15', '2/22/16', '2/23/16', '3/2/16'],\n",
       "      dtype=object)"
      ]
     },
     "execution_count": 8,
     "metadata": {},
     "output_type": "execute_result"
    }
   ],
   "source": [
    "landslides.date.unique()"
   ]
  },
  {
   "cell_type": "code",
   "execution_count": 6,
   "id": "5b4e94a0",
   "metadata": {},
   "outputs": [
    {
     "data": {
      "text/plain": [
       "0     3/2/07\n",
       "1    3/22/07\n",
       "2     4/6/07\n",
       "3    4/14/07\n",
       "4    4/15/07\n",
       "Name: date, dtype: object"
      ]
     },
     "execution_count": 6,
     "metadata": {},
     "output_type": "execute_result"
    }
   ],
   "source": [
    "landslides.date.head()"
   ]
  },
  {
   "cell_type": "code",
   "execution_count": 11,
   "id": "84a018e3",
   "metadata": {},
   "outputs": [],
   "source": [
    "df_date = landslides.date.str.split(\"/\", expand = True)"
   ]
  },
  {
   "cell_type": "code",
   "execution_count": 13,
   "id": "a00f93db",
   "metadata": {},
   "outputs": [
    {
     "data": {
      "text/html": [
       "<div>\n",
       "<style scoped>\n",
       "    .dataframe tbody tr th:only-of-type {\n",
       "        vertical-align: middle;\n",
       "    }\n",
       "\n",
       "    .dataframe tbody tr th {\n",
       "        vertical-align: top;\n",
       "    }\n",
       "\n",
       "    .dataframe thead th {\n",
       "        text-align: right;\n",
       "    }\n",
       "</style>\n",
       "<table border=\"1\" class=\"dataframe\">\n",
       "  <thead>\n",
       "    <tr style=\"text-align: right;\">\n",
       "      <th></th>\n",
       "      <th>0</th>\n",
       "      <th>1</th>\n",
       "      <th>2</th>\n",
       "    </tr>\n",
       "  </thead>\n",
       "  <tbody>\n",
       "    <tr>\n",
       "      <th>0</th>\n",
       "      <td>3</td>\n",
       "      <td>2</td>\n",
       "      <td>07</td>\n",
       "    </tr>\n",
       "    <tr>\n",
       "      <th>1</th>\n",
       "      <td>3</td>\n",
       "      <td>22</td>\n",
       "      <td>07</td>\n",
       "    </tr>\n",
       "    <tr>\n",
       "      <th>2</th>\n",
       "      <td>4</td>\n",
       "      <td>6</td>\n",
       "      <td>07</td>\n",
       "    </tr>\n",
       "    <tr>\n",
       "      <th>3</th>\n",
       "      <td>4</td>\n",
       "      <td>14</td>\n",
       "      <td>07</td>\n",
       "    </tr>\n",
       "    <tr>\n",
       "      <th>4</th>\n",
       "      <td>4</td>\n",
       "      <td>15</td>\n",
       "      <td>07</td>\n",
       "    </tr>\n",
       "  </tbody>\n",
       "</table>\n",
       "</div>"
      ],
      "text/plain": [
       "   0   1   2\n",
       "0  3   2  07\n",
       "1  3  22  07\n",
       "2  4   6  07\n",
       "3  4  14  07\n",
       "4  4  15  07"
      ]
     },
     "execution_count": 13,
     "metadata": {},
     "output_type": "execute_result"
    }
   ],
   "source": [
    "df_date.head()"
   ]
  },
  {
   "cell_type": "code",
   "execution_count": 12,
   "id": "2fd9d1fb",
   "metadata": {},
   "outputs": [
    {
     "data": {
      "text/plain": [
       "RangeIndex(start=0, stop=3, step=1)"
      ]
     },
     "execution_count": 12,
     "metadata": {},
     "output_type": "execute_result"
    }
   ],
   "source": [
    "df_date.columns"
   ]
  },
  {
   "cell_type": "code",
   "execution_count": 14,
   "id": "b53dd9c1",
   "metadata": {},
   "outputs": [
    {
     "data": {
      "text/plain": [
       "12"
      ]
     },
     "execution_count": 14,
     "metadata": {},
     "output_type": "execute_result"
    }
   ],
   "source": [
    "df_date[0].nunique()"
   ]
  },
  {
   "cell_type": "code",
   "execution_count": 17,
   "id": "d0c5ec9b",
   "metadata": {},
   "outputs": [
    {
     "data": {
      "text/plain": [
       "array(['3', '4', '5', '6', '7', '8', '9', '10', '11', '12', '1', '2', nan],\n",
       "      dtype=object)"
      ]
     },
     "execution_count": 17,
     "metadata": {},
     "output_type": "execute_result"
    }
   ],
   "source": [
    "df_date[0].unique()"
   ]
  },
  {
   "cell_type": "code",
   "execution_count": 15,
   "id": "134938e9",
   "metadata": {},
   "outputs": [
    {
     "data": {
      "text/plain": [
       "31"
      ]
     },
     "execution_count": 15,
     "metadata": {},
     "output_type": "execute_result"
    }
   ],
   "source": [
    "df_date[1].nunique()"
   ]
  },
  {
   "cell_type": "code",
   "execution_count": 18,
   "id": "0e3d4806",
   "metadata": {},
   "outputs": [
    {
     "data": {
      "text/plain": [
       "array(['2', '22', '6', '14', '15', '20', '24', '21', '27', '1', '4', '8',\n",
       "       '13', '9', '11', '17', '18', '19', '23', '3', '5', '28', '12',\n",
       "       '29', '31', '30', '16', '7', '10', '25', '26', nan], dtype=object)"
      ]
     },
     "execution_count": 18,
     "metadata": {},
     "output_type": "execute_result"
    }
   ],
   "source": [
    "df_date[1].unique()"
   ]
  },
  {
   "cell_type": "code",
   "execution_count": 23,
   "id": "d4ac52af",
   "metadata": {},
   "outputs": [],
   "source": [
    "li = list(df_date[2].unique())"
   ]
  },
  {
   "cell_type": "code",
   "execution_count": 25,
   "id": "ff4113cf",
   "metadata": {},
   "outputs": [
    {
     "data": {
      "text/plain": [
       "'07'"
      ]
     },
     "execution_count": 25,
     "metadata": {},
     "output_type": "execute_result"
    }
   ],
   "source": [
    "li[0]"
   ]
  },
  {
   "cell_type": "code",
   "execution_count": 27,
   "id": "956232b5",
   "metadata": {},
   "outputs": [
    {
     "data": {
      "text/plain": [
       "['07', '08', '09', '10', '11', '12', '13', '14', '15', nan, '16']"
      ]
     },
     "execution_count": 27,
     "metadata": {},
     "output_type": "execute_result"
    }
   ],
   "source": [
    "li"
   ]
  },
  {
   "cell_type": "code",
   "execution_count": 26,
   "id": "4c4508c0",
   "metadata": {},
   "outputs": [
    {
     "data": {
      "text/plain": [
       "str"
      ]
     },
     "execution_count": 26,
     "metadata": {},
     "output_type": "execute_result"
    }
   ],
   "source": [
    "type(li[0])"
   ]
  },
  {
   "cell_type": "code",
   "execution_count": 28,
   "id": "f2093071",
   "metadata": {},
   "outputs": [
    {
     "data": {
      "text/plain": [
       "array(['07', '08', '09', '10', '11', '12', '13', '14', '15', nan, '16'],\n",
       "      dtype=object)"
      ]
     },
     "execution_count": 28,
     "metadata": {},
     "output_type": "execute_result"
    }
   ],
   "source": [
    "df_date[2].unique()"
   ]
  },
  {
   "cell_type": "code",
   "execution_count": 16,
   "id": "6057ec73",
   "metadata": {},
   "outputs": [
    {
     "data": {
      "text/plain": [
       "10"
      ]
     },
     "execution_count": 16,
     "metadata": {},
     "output_type": "execute_result"
    }
   ],
   "source": [
    "df_date[2].nunique()"
   ]
  },
  {
   "cell_type": "code",
   "execution_count": null,
   "id": "65d8d2b4",
   "metadata": {},
   "outputs": [],
   "source": [
    "3/2/07"
   ]
  },
  {
   "cell_type": "code",
   "execution_count": 31,
   "id": "565fa2ed",
   "metadata": {},
   "outputs": [],
   "source": [
    "landslides.date = pd.to_datetime(landslides.date, format = \"%m/%d/%y\")"
   ]
  },
  {
   "cell_type": "code",
   "execution_count": 32,
   "id": "fdfafea2",
   "metadata": {},
   "outputs": [
    {
     "data": {
      "text/plain": [
       "dtype('<M8[ns]')"
      ]
     },
     "execution_count": 32,
     "metadata": {},
     "output_type": "execute_result"
    }
   ],
   "source": [
    "landslides.date.dtype"
   ]
  },
  {
   "cell_type": "code",
   "execution_count": 33,
   "id": "0492c080",
   "metadata": {},
   "outputs": [
    {
     "data": {
      "text/plain": [
       "id                               int64\n",
       "date                    datetime64[ns]\n",
       "time                            object\n",
       "continent_code                  object\n",
       "country_name                    object\n",
       "country_code                    object\n",
       "state/province                  object\n",
       "population                       int64\n",
       "city/town                       object\n",
       "distance                       float64\n",
       "location_description            object\n",
       "latitude                       float64\n",
       "longitude                      float64\n",
       "geolocation                     object\n",
       "hazard_type                     object\n",
       "landslide_type                  object\n",
       "landslide_size                  object\n",
       "trigger                         object\n",
       "storm_name                      object\n",
       "injuries                       float64\n",
       "fatalities                     float64\n",
       "source_name                     object\n",
       "source_link                     object\n",
       "dtype: object"
      ]
     },
     "execution_count": 33,
     "metadata": {},
     "output_type": "execute_result"
    }
   ],
   "source": [
    "landslides.dtypes"
   ]
  },
  {
   "cell_type": "code",
   "execution_count": 34,
   "id": "b3bfcf59",
   "metadata": {},
   "outputs": [
    {
     "name": "stderr",
     "output_type": "stream",
     "text": [
      "C:\\Users\\Md Rana Mahmud\\AppData\\Local\\Temp\\ipykernel_324\\74272118.py:1: FutureWarning: Treating datetime data as categorical rather than numeric in `.describe` is deprecated and will be removed in a future version of pandas. Specify `datetime_is_numeric=True` to silence this warning and adopt the future behavior now.\n",
      "  landslides.date.describe()\n"
     ]
    },
    {
     "data": {
      "text/plain": [
       "count                    1690\n",
       "unique                    922\n",
       "top       2013-09-12 00:00:00\n",
       "freq                       21\n",
       "first     2007-03-02 00:00:00\n",
       "last      2016-03-02 00:00:00\n",
       "Name: date, dtype: object"
      ]
     },
     "execution_count": 34,
     "metadata": {},
     "output_type": "execute_result"
    }
   ],
   "source": [
    "landslides.date.describe()"
   ]
  },
  {
   "cell_type": "code",
   "execution_count": 42,
   "id": "1a2a16eb",
   "metadata": {},
   "outputs": [
    {
     "data": {
      "text/plain": [
       "(1693, 23)"
      ]
     },
     "execution_count": 42,
     "metadata": {},
     "output_type": "execute_result"
    }
   ],
   "source": [
    "landslides.shape"
   ]
  },
  {
   "cell_type": "code",
   "execution_count": 41,
   "id": "dbcb75af",
   "metadata": {},
   "outputs": [
    {
     "data": {
      "text/html": [
       "<div>\n",
       "<style scoped>\n",
       "    .dataframe tbody tr th:only-of-type {\n",
       "        vertical-align: middle;\n",
       "    }\n",
       "\n",
       "    .dataframe tbody tr th {\n",
       "        vertical-align: top;\n",
       "    }\n",
       "\n",
       "    .dataframe thead th {\n",
       "        text-align: right;\n",
       "    }\n",
       "</style>\n",
       "<table border=\"1\" class=\"dataframe\">\n",
       "  <thead>\n",
       "    <tr style=\"text-align: right;\">\n",
       "      <th></th>\n",
       "      <th>id</th>\n",
       "      <th>date</th>\n",
       "      <th>time</th>\n",
       "      <th>continent_code</th>\n",
       "      <th>country_name</th>\n",
       "      <th>country_code</th>\n",
       "      <th>state/province</th>\n",
       "      <th>population</th>\n",
       "      <th>city/town</th>\n",
       "      <th>distance</th>\n",
       "      <th>...</th>\n",
       "      <th>geolocation</th>\n",
       "      <th>hazard_type</th>\n",
       "      <th>landslide_type</th>\n",
       "      <th>landslide_size</th>\n",
       "      <th>trigger</th>\n",
       "      <th>storm_name</th>\n",
       "      <th>injuries</th>\n",
       "      <th>fatalities</th>\n",
       "      <th>source_name</th>\n",
       "      <th>source_link</th>\n",
       "    </tr>\n",
       "  </thead>\n",
       "  <tbody>\n",
       "    <tr>\n",
       "      <th>1692</th>\n",
       "      <td>7541</td>\n",
       "      <td>2016-03-02</td>\n",
       "      <td>8:00</td>\n",
       "      <td>NaN</td>\n",
       "      <td>United States</td>\n",
       "      <td>US</td>\n",
       "      <td>Vermont</td>\n",
       "      <td>2066</td>\n",
       "      <td>Windsor</td>\n",
       "      <td>1.78429</td>\n",
       "      <td>...</td>\n",
       "      <td>(43.4771, -72.406599999999997)</td>\n",
       "      <td>Landslide</td>\n",
       "      <td>Rockfall</td>\n",
       "      <td>Small</td>\n",
       "      <td>Unknown</td>\n",
       "      <td>NaN</td>\n",
       "      <td>0.0</td>\n",
       "      <td>0.0</td>\n",
       "      <td>Valley News</td>\n",
       "      <td>http://www.vnews.com/home/21353539-95/loose-ledge</td>\n",
       "    </tr>\n",
       "    <tr>\n",
       "      <th>1683</th>\n",
       "      <td>7530</td>\n",
       "      <td>2016-02-27</td>\n",
       "      <td>15:30</td>\n",
       "      <td>NaN</td>\n",
       "      <td>United States</td>\n",
       "      <td>US</td>\n",
       "      <td>Idaho</td>\n",
       "      <td>485</td>\n",
       "      <td>Idaho City</td>\n",
       "      <td>24.16064</td>\n",
       "      <td>...</td>\n",
       "      <td>(44.103999999999999, -116.0033)</td>\n",
       "      <td>Landslide</td>\n",
       "      <td>Rockfall</td>\n",
       "      <td>Small</td>\n",
       "      <td>Rain</td>\n",
       "      <td>NaN</td>\n",
       "      <td>1.0</td>\n",
       "      <td>0.0</td>\n",
       "      <td>KTVB</td>\n",
       "      <td>http://www.ktvb.com/news/local/itd-working-to-...</td>\n",
       "    </tr>\n",
       "    <tr>\n",
       "      <th>1686</th>\n",
       "      <td>7533</td>\n",
       "      <td>2016-02-27</td>\n",
       "      <td>12:15</td>\n",
       "      <td>NaN</td>\n",
       "      <td>United States</td>\n",
       "      <td>US</td>\n",
       "      <td>West Virginia</td>\n",
       "      <td>2184</td>\n",
       "      <td>Bluewell</td>\n",
       "      <td>5.07093</td>\n",
       "      <td>...</td>\n",
       "      <td>(37.328699999999998, -81.313400000000001)</td>\n",
       "      <td>Landslide</td>\n",
       "      <td>Rockfall</td>\n",
       "      <td>Small</td>\n",
       "      <td>Unknown</td>\n",
       "      <td>NaN</td>\n",
       "      <td>0.0</td>\n",
       "      <td>0.0</td>\n",
       "      <td>Bluefield Daily Telegraph</td>\n",
       "      <td>http://www.bdtonline.com/news/rockslide-blocks...</td>\n",
       "    </tr>\n",
       "    <tr>\n",
       "      <th>1682</th>\n",
       "      <td>7529</td>\n",
       "      <td>2016-02-27</td>\n",
       "      <td>NaN</td>\n",
       "      <td>NaN</td>\n",
       "      <td>United States</td>\n",
       "      <td>US</td>\n",
       "      <td>Idaho</td>\n",
       "      <td>939</td>\n",
       "      <td>Cascade</td>\n",
       "      <td>22.78728</td>\n",
       "      <td>...</td>\n",
       "      <td>(44.3127, -116.07599999999999)</td>\n",
       "      <td>Landslide</td>\n",
       "      <td>Rockfall</td>\n",
       "      <td>Small</td>\n",
       "      <td>Unknown</td>\n",
       "      <td>NaN</td>\n",
       "      <td>0.0</td>\n",
       "      <td>0.0</td>\n",
       "      <td>KTVB</td>\n",
       "      <td>http://www.ktvb.com/news/local/itd-working-to-...</td>\n",
       "    </tr>\n",
       "    <tr>\n",
       "      <th>1691</th>\n",
       "      <td>7540</td>\n",
       "      <td>2016-02-26</td>\n",
       "      <td>21:06</td>\n",
       "      <td>NaN</td>\n",
       "      <td>United States</td>\n",
       "      <td>US</td>\n",
       "      <td>West Virginia</td>\n",
       "      <td>1048</td>\n",
       "      <td>Athens</td>\n",
       "      <td>12.00678</td>\n",
       "      <td>...</td>\n",
       "      <td>(37.501100000000001, -81.109300000000005)</td>\n",
       "      <td>Landslide</td>\n",
       "      <td>Rockfall</td>\n",
       "      <td>Small</td>\n",
       "      <td>Unknown</td>\n",
       "      <td>NaN</td>\n",
       "      <td>0.0</td>\n",
       "      <td>0.0</td>\n",
       "      <td>Bluefield Daily Telegraph</td>\n",
       "      <td>http://www.bdtonline.com/news/rockslide-snarls...</td>\n",
       "    </tr>\n",
       "    <tr>\n",
       "      <th>...</th>\n",
       "      <td>...</td>\n",
       "      <td>...</td>\n",
       "      <td>...</td>\n",
       "      <td>...</td>\n",
       "      <td>...</td>\n",
       "      <td>...</td>\n",
       "      <td>...</td>\n",
       "      <td>...</td>\n",
       "      <td>...</td>\n",
       "      <td>...</td>\n",
       "      <td>...</td>\n",
       "      <td>...</td>\n",
       "      <td>...</td>\n",
       "      <td>...</td>\n",
       "      <td>...</td>\n",
       "      <td>...</td>\n",
       "      <td>...</td>\n",
       "      <td>...</td>\n",
       "      <td>...</td>\n",
       "      <td>...</td>\n",
       "      <td>...</td>\n",
       "    </tr>\n",
       "    <tr>\n",
       "      <th>1</th>\n",
       "      <td>42</td>\n",
       "      <td>2007-03-22</td>\n",
       "      <td>NaN</td>\n",
       "      <td>NaN</td>\n",
       "      <td>United States</td>\n",
       "      <td>US</td>\n",
       "      <td>Ohio</td>\n",
       "      <td>17288</td>\n",
       "      <td>New Philadelphia</td>\n",
       "      <td>3.33522</td>\n",
       "      <td>...</td>\n",
       "      <td>(40.517499999999998, -81.430499999999995)</td>\n",
       "      <td>Landslide</td>\n",
       "      <td>Landslide</td>\n",
       "      <td>Small</td>\n",
       "      <td>Rain</td>\n",
       "      <td>NaN</td>\n",
       "      <td>NaN</td>\n",
       "      <td>NaN</td>\n",
       "      <td>Canton Rep.com</td>\n",
       "      <td>http://www.cantonrep.com/index.php?ID=345054&amp;C...</td>\n",
       "    </tr>\n",
       "    <tr>\n",
       "      <th>0</th>\n",
       "      <td>34</td>\n",
       "      <td>2007-03-02</td>\n",
       "      <td>Night</td>\n",
       "      <td>NaN</td>\n",
       "      <td>United States</td>\n",
       "      <td>US</td>\n",
       "      <td>Virginia</td>\n",
       "      <td>16000</td>\n",
       "      <td>Cherry Hill</td>\n",
       "      <td>3.40765</td>\n",
       "      <td>...</td>\n",
       "      <td>(38.600900000000003, -77.268199999999993)</td>\n",
       "      <td>Landslide</td>\n",
       "      <td>Landslide</td>\n",
       "      <td>Small</td>\n",
       "      <td>Rain</td>\n",
       "      <td>NaN</td>\n",
       "      <td>NaN</td>\n",
       "      <td>NaN</td>\n",
       "      <td>NBC 4 news</td>\n",
       "      <td>http://www.nbc4.com/news/11186871/detail.html</td>\n",
       "    </tr>\n",
       "    <tr>\n",
       "      <th>1482</th>\n",
       "      <td>7042</td>\n",
       "      <td>NaT</td>\n",
       "      <td>Morning</td>\n",
       "      <td>NaN</td>\n",
       "      <td>United States</td>\n",
       "      <td>US</td>\n",
       "      <td>Kansas</td>\n",
       "      <td>857</td>\n",
       "      <td>Oregon</td>\n",
       "      <td>14.54524</td>\n",
       "      <td>...</td>\n",
       "      <td>(39.989199999999997, -95.315299999999993)</td>\n",
       "      <td>Landslide</td>\n",
       "      <td>Mudslide</td>\n",
       "      <td>Small</td>\n",
       "      <td>Downpour</td>\n",
       "      <td>NaN</td>\n",
       "      <td>0.0</td>\n",
       "      <td>0.0</td>\n",
       "      <td>KSNT</td>\n",
       "      <td>http://ksnt.com/2015/05/26/update-flooded-road...</td>\n",
       "    </tr>\n",
       "    <tr>\n",
       "      <th>1497</th>\n",
       "      <td>7080</td>\n",
       "      <td>NaT</td>\n",
       "      <td>13:00</td>\n",
       "      <td>NaN</td>\n",
       "      <td>United States</td>\n",
       "      <td>US</td>\n",
       "      <td>Ohio</td>\n",
       "      <td>4113</td>\n",
       "      <td>Chagrin Falls</td>\n",
       "      <td>0.71363</td>\n",
       "      <td>...</td>\n",
       "      <td>(41.431199999999997, -81.391999999999996)</td>\n",
       "      <td>Landslide</td>\n",
       "      <td>Landslide</td>\n",
       "      <td>Small</td>\n",
       "      <td>Unknown</td>\n",
       "      <td>NaN</td>\n",
       "      <td>0.0</td>\n",
       "      <td>0.0</td>\n",
       "      <td>Cleveland</td>\n",
       "      <td>http://www.cleveland.com/chagrin-falls/index.s...</td>\n",
       "    </tr>\n",
       "    <tr>\n",
       "      <th>1526</th>\n",
       "      <td>7165</td>\n",
       "      <td>NaT</td>\n",
       "      <td>12:15</td>\n",
       "      <td>NaN</td>\n",
       "      <td>United States</td>\n",
       "      <td>US</td>\n",
       "      <td>Indiana</td>\n",
       "      <td>2085</td>\n",
       "      <td>Rockport</td>\n",
       "      <td>8.43158</td>\n",
       "      <td>...</td>\n",
       "      <td>(39.869, -87.181600000000003)</td>\n",
       "      <td>Landslide</td>\n",
       "      <td>Landslide</td>\n",
       "      <td>Small</td>\n",
       "      <td>Rain</td>\n",
       "      <td>NaN</td>\n",
       "      <td>0.0</td>\n",
       "      <td>0.0</td>\n",
       "      <td>WTHITV10</td>\n",
       "      <td>http://wthitv.com/2015/04/09/parke-county-sher...</td>\n",
       "    </tr>\n",
       "  </tbody>\n",
       "</table>\n",
       "<p>1693 rows × 23 columns</p>\n",
       "</div>"
      ],
      "text/plain": [
       "        id       date     time continent_code   country_name country_code  \\\n",
       "1692  7541 2016-03-02     8:00            NaN  United States           US   \n",
       "1683  7530 2016-02-27    15:30            NaN  United States           US   \n",
       "1686  7533 2016-02-27    12:15            NaN  United States           US   \n",
       "1682  7529 2016-02-27      NaN            NaN  United States           US   \n",
       "1691  7540 2016-02-26    21:06            NaN  United States           US   \n",
       "...    ...        ...      ...            ...            ...          ...   \n",
       "1       42 2007-03-22      NaN            NaN  United States           US   \n",
       "0       34 2007-03-02    Night            NaN  United States           US   \n",
       "1482  7042        NaT  Morning            NaN  United States           US   \n",
       "1497  7080        NaT    13:00            NaN  United States           US   \n",
       "1526  7165        NaT    12:15            NaN  United States           US   \n",
       "\n",
       "     state/province  population         city/town  distance  ...  \\\n",
       "1692        Vermont        2066           Windsor   1.78429  ...   \n",
       "1683          Idaho         485        Idaho City  24.16064  ...   \n",
       "1686  West Virginia        2184          Bluewell   5.07093  ...   \n",
       "1682          Idaho         939           Cascade  22.78728  ...   \n",
       "1691  West Virginia        1048            Athens  12.00678  ...   \n",
       "...             ...         ...               ...       ...  ...   \n",
       "1              Ohio       17288  New Philadelphia   3.33522  ...   \n",
       "0          Virginia       16000       Cherry Hill   3.40765  ...   \n",
       "1482         Kansas         857            Oregon  14.54524  ...   \n",
       "1497           Ohio        4113     Chagrin Falls   0.71363  ...   \n",
       "1526        Indiana        2085          Rockport   8.43158  ...   \n",
       "\n",
       "                                    geolocation  hazard_type  landslide_type  \\\n",
       "1692             (43.4771, -72.406599999999997)    Landslide        Rockfall   \n",
       "1683            (44.103999999999999, -116.0033)    Landslide        Rockfall   \n",
       "1686  (37.328699999999998, -81.313400000000001)    Landslide        Rockfall   \n",
       "1682             (44.3127, -116.07599999999999)    Landslide        Rockfall   \n",
       "1691  (37.501100000000001, -81.109300000000005)    Landslide        Rockfall   \n",
       "...                                         ...          ...             ...   \n",
       "1     (40.517499999999998, -81.430499999999995)    Landslide       Landslide   \n",
       "0     (38.600900000000003, -77.268199999999993)    Landslide       Landslide   \n",
       "1482  (39.989199999999997, -95.315299999999993)    Landslide        Mudslide   \n",
       "1497  (41.431199999999997, -81.391999999999996)    Landslide       Landslide   \n",
       "1526              (39.869, -87.181600000000003)    Landslide       Landslide   \n",
       "\n",
       "     landslide_size   trigger storm_name injuries fatalities  \\\n",
       "1692          Small   Unknown        NaN      0.0        0.0   \n",
       "1683          Small      Rain        NaN      1.0        0.0   \n",
       "1686          Small   Unknown        NaN      0.0        0.0   \n",
       "1682          Small   Unknown        NaN      0.0        0.0   \n",
       "1691          Small   Unknown        NaN      0.0        0.0   \n",
       "...             ...       ...        ...      ...        ...   \n",
       "1             Small      Rain        NaN      NaN        NaN   \n",
       "0             Small      Rain        NaN      NaN        NaN   \n",
       "1482          Small  Downpour        NaN      0.0        0.0   \n",
       "1497          Small   Unknown        NaN      0.0        0.0   \n",
       "1526          Small      Rain        NaN      0.0        0.0   \n",
       "\n",
       "                    source_name  \\\n",
       "1692                Valley News   \n",
       "1683                       KTVB   \n",
       "1686  Bluefield Daily Telegraph   \n",
       "1682                       KTVB   \n",
       "1691  Bluefield Daily Telegraph   \n",
       "...                         ...   \n",
       "1                Canton Rep.com   \n",
       "0                    NBC 4 news   \n",
       "1482                       KSNT   \n",
       "1497                  Cleveland   \n",
       "1526                   WTHITV10   \n",
       "\n",
       "                                            source_link  \n",
       "1692  http://www.vnews.com/home/21353539-95/loose-ledge  \n",
       "1683  http://www.ktvb.com/news/local/itd-working-to-...  \n",
       "1686  http://www.bdtonline.com/news/rockslide-blocks...  \n",
       "1682  http://www.ktvb.com/news/local/itd-working-to-...  \n",
       "1691  http://www.bdtonline.com/news/rockslide-snarls...  \n",
       "...                                                 ...  \n",
       "1     http://www.cantonrep.com/index.php?ID=345054&C...  \n",
       "0         http://www.nbc4.com/news/11186871/detail.html  \n",
       "1482  http://ksnt.com/2015/05/26/update-flooded-road...  \n",
       "1497  http://www.cleveland.com/chagrin-falls/index.s...  \n",
       "1526  http://wthitv.com/2015/04/09/parke-county-sher...  \n",
       "\n",
       "[1693 rows x 23 columns]"
      ]
     },
     "execution_count": 41,
     "metadata": {},
     "output_type": "execute_result"
    }
   ],
   "source": [
    "landslides.sort_values('date', ascending = False)"
   ]
  },
  {
   "cell_type": "code",
   "execution_count": 36,
   "id": "5d682cd5",
   "metadata": {},
   "outputs": [
    {
     "data": {
      "text/plain": [
       "0      2007-03-02\n",
       "1      2007-03-22\n",
       "2      2007-04-06\n",
       "3      2007-04-14\n",
       "4      2007-04-15\n",
       "          ...    \n",
       "1688   2015-12-07\n",
       "1689   2016-02-22\n",
       "1690   2016-02-23\n",
       "1691   2016-02-26\n",
       "1692   2016-03-02\n",
       "Name: date, Length: 1693, dtype: datetime64[ns]"
      ]
     },
     "execution_count": 36,
     "metadata": {},
     "output_type": "execute_result"
    }
   ],
   "source": [
    "landslides.date"
   ]
  },
  {
   "cell_type": "code",
   "execution_count": 35,
   "id": "c5a6f7d0",
   "metadata": {},
   "outputs": [
    {
     "data": {
      "text/plain": [
       "0       2007.0\n",
       "1       2007.0\n",
       "2       2007.0\n",
       "3       2007.0\n",
       "4       2007.0\n",
       "         ...  \n",
       "1688    2015.0\n",
       "1689    2016.0\n",
       "1690    2016.0\n",
       "1691    2016.0\n",
       "1692    2016.0\n",
       "Name: date, Length: 1693, dtype: float64"
      ]
     },
     "execution_count": 35,
     "metadata": {},
     "output_type": "execute_result"
    }
   ],
   "source": [
    "landslides.date.dt.year"
   ]
  },
  {
   "cell_type": "code",
   "execution_count": 43,
   "id": "789c0381",
   "metadata": {},
   "outputs": [],
   "source": [
    "landslides['month'] = landslides.date.dt.month"
   ]
  },
  {
   "cell_type": "code",
   "execution_count": 55,
   "id": "51122b98",
   "metadata": {},
   "outputs": [
    {
     "data": {
      "text/plain": [
       "month\n",
       "1.0     0.03251\n",
       "2.0     0.27505\n",
       "3.0     0.00003\n",
       "4.0     0.00442\n",
       "5.0     0.00435\n",
       "6.0     0.10261\n",
       "7.0     0.00178\n",
       "8.0     0.00359\n",
       "9.0     0.00273\n",
       "10.0    0.08269\n",
       "11.0    0.11421\n",
       "12.0    0.09491\n",
       "Name: distance, dtype: float64"
      ]
     },
     "execution_count": 55,
     "metadata": {},
     "output_type": "execute_result"
    }
   ],
   "source": [
    "landslides.groupby('month')['distance'].min()"
   ]
  },
  {
   "cell_type": "code",
   "execution_count": 57,
   "id": "084264d2",
   "metadata": {},
   "outputs": [
    {
     "data": {
      "text/html": [
       "<div>\n",
       "<style scoped>\n",
       "    .dataframe tbody tr th:only-of-type {\n",
       "        vertical-align: middle;\n",
       "    }\n",
       "\n",
       "    .dataframe tbody tr th {\n",
       "        vertical-align: top;\n",
       "    }\n",
       "\n",
       "    .dataframe thead th {\n",
       "        text-align: right;\n",
       "    }\n",
       "</style>\n",
       "<table border=\"1\" class=\"dataframe\">\n",
       "  <thead>\n",
       "    <tr style=\"text-align: right;\">\n",
       "      <th></th>\n",
       "      <th>count</th>\n",
       "      <th>mean</th>\n",
       "      <th>std</th>\n",
       "      <th>min</th>\n",
       "      <th>25%</th>\n",
       "      <th>50%</th>\n",
       "      <th>75%</th>\n",
       "      <th>max</th>\n",
       "    </tr>\n",
       "    <tr>\n",
       "      <th>month</th>\n",
       "      <th></th>\n",
       "      <th></th>\n",
       "      <th></th>\n",
       "      <th></th>\n",
       "      <th></th>\n",
       "      <th></th>\n",
       "      <th></th>\n",
       "      <th></th>\n",
       "    </tr>\n",
       "  </thead>\n",
       "  <tbody>\n",
       "    <tr>\n",
       "      <th>1.0</th>\n",
       "      <td>65.0</td>\n",
       "      <td>8.020350</td>\n",
       "      <td>9.408146</td>\n",
       "      <td>0.03251</td>\n",
       "      <td>1.636250</td>\n",
       "      <td>4.203870</td>\n",
       "      <td>12.958870</td>\n",
       "      <td>44.08725</td>\n",
       "    </tr>\n",
       "    <tr>\n",
       "      <th>2.0</th>\n",
       "      <td>58.0</td>\n",
       "      <td>9.011861</td>\n",
       "      <td>9.731647</td>\n",
       "      <td>0.27505</td>\n",
       "      <td>2.049882</td>\n",
       "      <td>5.825035</td>\n",
       "      <td>11.983690</td>\n",
       "      <td>50.21741</td>\n",
       "    </tr>\n",
       "    <tr>\n",
       "      <th>3.0</th>\n",
       "      <td>150.0</td>\n",
       "      <td>6.030639</td>\n",
       "      <td>5.585962</td>\n",
       "      <td>0.00003</td>\n",
       "      <td>1.739605</td>\n",
       "      <td>3.808785</td>\n",
       "      <td>9.180005</td>\n",
       "      <td>23.26062</td>\n",
       "    </tr>\n",
       "    <tr>\n",
       "      <th>4.0</th>\n",
       "      <td>167.0</td>\n",
       "      <td>5.455916</td>\n",
       "      <td>5.792012</td>\n",
       "      <td>0.00442</td>\n",
       "      <td>1.745485</td>\n",
       "      <td>3.552820</td>\n",
       "      <td>7.521080</td>\n",
       "      <td>46.77007</td>\n",
       "    </tr>\n",
       "    <tr>\n",
       "      <th>5.0</th>\n",
       "      <td>203.0</td>\n",
       "      <td>7.599642</td>\n",
       "      <td>8.459344</td>\n",
       "      <td>0.00435</td>\n",
       "      <td>1.897000</td>\n",
       "      <td>5.139130</td>\n",
       "      <td>10.383440</td>\n",
       "      <td>61.75306</td>\n",
       "    </tr>\n",
       "    <tr>\n",
       "      <th>6.0</th>\n",
       "      <td>132.0</td>\n",
       "      <td>9.846973</td>\n",
       "      <td>11.693913</td>\n",
       "      <td>0.10261</td>\n",
       "      <td>2.149878</td>\n",
       "      <td>5.411290</td>\n",
       "      <td>12.929378</td>\n",
       "      <td>74.46097</td>\n",
       "    </tr>\n",
       "    <tr>\n",
       "      <th>7.0</th>\n",
       "      <td>210.0</td>\n",
       "      <td>8.879942</td>\n",
       "      <td>10.441849</td>\n",
       "      <td>0.00178</td>\n",
       "      <td>2.223955</td>\n",
       "      <td>5.379700</td>\n",
       "      <td>11.078155</td>\n",
       "      <td>66.07162</td>\n",
       "    </tr>\n",
       "    <tr>\n",
       "      <th>8.0</th>\n",
       "      <td>145.0</td>\n",
       "      <td>10.213350</td>\n",
       "      <td>13.067031</td>\n",
       "      <td>0.00359</td>\n",
       "      <td>2.550230</td>\n",
       "      <td>5.126670</td>\n",
       "      <td>12.934430</td>\n",
       "      <td>72.64680</td>\n",
       "    </tr>\n",
       "    <tr>\n",
       "      <th>9.0</th>\n",
       "      <td>203.0</td>\n",
       "      <td>8.620497</td>\n",
       "      <td>10.827961</td>\n",
       "      <td>0.00273</td>\n",
       "      <td>1.721590</td>\n",
       "      <td>3.648180</td>\n",
       "      <td>10.474110</td>\n",
       "      <td>54.90196</td>\n",
       "    </tr>\n",
       "    <tr>\n",
       "      <th>10.0</th>\n",
       "      <td>126.0</td>\n",
       "      <td>7.047630</td>\n",
       "      <td>8.709979</td>\n",
       "      <td>0.08269</td>\n",
       "      <td>2.546600</td>\n",
       "      <td>4.750615</td>\n",
       "      <td>8.659033</td>\n",
       "      <td>70.82902</td>\n",
       "    </tr>\n",
       "    <tr>\n",
       "      <th>11.0</th>\n",
       "      <td>114.0</td>\n",
       "      <td>5.785593</td>\n",
       "      <td>4.962714</td>\n",
       "      <td>0.11421</td>\n",
       "      <td>2.706112</td>\n",
       "      <td>4.161530</td>\n",
       "      <td>7.872383</td>\n",
       "      <td>25.51411</td>\n",
       "    </tr>\n",
       "    <tr>\n",
       "      <th>12.0</th>\n",
       "      <td>116.0</td>\n",
       "      <td>7.472365</td>\n",
       "      <td>7.919730</td>\n",
       "      <td>0.09491</td>\n",
       "      <td>2.092132</td>\n",
       "      <td>4.938160</td>\n",
       "      <td>8.804488</td>\n",
       "      <td>41.54001</td>\n",
       "    </tr>\n",
       "  </tbody>\n",
       "</table>\n",
       "</div>"
      ],
      "text/plain": [
       "       count       mean        std      min       25%       50%        75%  \\\n",
       "month                                                                        \n",
       "1.0     65.0   8.020350   9.408146  0.03251  1.636250  4.203870  12.958870   \n",
       "2.0     58.0   9.011861   9.731647  0.27505  2.049882  5.825035  11.983690   \n",
       "3.0    150.0   6.030639   5.585962  0.00003  1.739605  3.808785   9.180005   \n",
       "4.0    167.0   5.455916   5.792012  0.00442  1.745485  3.552820   7.521080   \n",
       "5.0    203.0   7.599642   8.459344  0.00435  1.897000  5.139130  10.383440   \n",
       "6.0    132.0   9.846973  11.693913  0.10261  2.149878  5.411290  12.929378   \n",
       "7.0    210.0   8.879942  10.441849  0.00178  2.223955  5.379700  11.078155   \n",
       "8.0    145.0  10.213350  13.067031  0.00359  2.550230  5.126670  12.934430   \n",
       "9.0    203.0   8.620497  10.827961  0.00273  1.721590  3.648180  10.474110   \n",
       "10.0   126.0   7.047630   8.709979  0.08269  2.546600  4.750615   8.659033   \n",
       "11.0   114.0   5.785593   4.962714  0.11421  2.706112  4.161530   7.872383   \n",
       "12.0   116.0   7.472365   7.919730  0.09491  2.092132  4.938160   8.804488   \n",
       "\n",
       "            max  \n",
       "month            \n",
       "1.0    44.08725  \n",
       "2.0    50.21741  \n",
       "3.0    23.26062  \n",
       "4.0    46.77007  \n",
       "5.0    61.75306  \n",
       "6.0    74.46097  \n",
       "7.0    66.07162  \n",
       "8.0    72.64680  \n",
       "9.0    54.90196  \n",
       "10.0   70.82902  \n",
       "11.0   25.51411  \n",
       "12.0   41.54001  "
      ]
     },
     "execution_count": 57,
     "metadata": {},
     "output_type": "execute_result"
    }
   ],
   "source": [
    "landslides.groupby('month')['distance'].describe()"
   ]
  },
  {
   "cell_type": "code",
   "execution_count": 56,
   "id": "054730c2",
   "metadata": {},
   "outputs": [
    {
     "data": {
      "text/plain": [
       "month\n",
       "1.0     44.08725\n",
       "2.0     50.21741\n",
       "3.0     23.26062\n",
       "4.0     46.77007\n",
       "5.0     61.75306\n",
       "6.0     74.46097\n",
       "7.0     66.07162\n",
       "8.0     72.64680\n",
       "9.0     54.90196\n",
       "10.0    70.82902\n",
       "11.0    25.51411\n",
       "12.0    41.54001\n",
       "Name: distance, dtype: float64"
      ]
     },
     "execution_count": 56,
     "metadata": {},
     "output_type": "execute_result"
    }
   ],
   "source": [
    "landslides.groupby('month')['distance'].max()"
   ]
  },
  {
   "cell_type": "code",
   "execution_count": 54,
   "id": "3431b4ec",
   "metadata": {},
   "outputs": [
    {
     "data": {
      "text/plain": [
       "month\n",
       "1.0      9.408146\n",
       "2.0      9.731647\n",
       "3.0      5.585962\n",
       "4.0      5.792012\n",
       "5.0      8.459344\n",
       "6.0     11.693913\n",
       "7.0     10.441849\n",
       "8.0     13.067031\n",
       "9.0     10.827961\n",
       "10.0     8.709979\n",
       "11.0     4.962714\n",
       "12.0     7.919730\n",
       "Name: distance, dtype: float64"
      ]
     },
     "execution_count": 54,
     "metadata": {},
     "output_type": "execute_result"
    }
   ],
   "source": [
    "landslides.groupby('month')['distance'].std()"
   ]
  },
  {
   "cell_type": "code",
   "execution_count": 47,
   "id": "3c620086",
   "metadata": {},
   "outputs": [
    {
     "data": {
      "text/plain": [
       "month\n",
       "1.0      8.020350\n",
       "2.0      9.011861\n",
       "3.0      6.030639\n",
       "4.0      5.455916\n",
       "5.0      7.599642\n",
       "6.0      9.846973\n",
       "7.0      8.879942\n",
       "8.0     10.213350\n",
       "9.0      8.620497\n",
       "10.0     7.047630\n",
       "11.0     5.785593\n",
       "12.0     7.472365\n",
       "Name: distance, dtype: float64"
      ]
     },
     "execution_count": 47,
     "metadata": {},
     "output_type": "execute_result"
    }
   ],
   "source": [
    "landslides.groupby('month')['distance'].mean()"
   ]
  },
  {
   "cell_type": "code",
   "execution_count": 52,
   "id": "d8839a2d",
   "metadata": {},
   "outputs": [],
   "source": [
    "dfavg = landslides.groupby([ 'country_code','month'])['distance'].mean().reset_index()"
   ]
  },
  {
   "cell_type": "code",
   "execution_count": 53,
   "id": "544b6824",
   "metadata": {},
   "outputs": [
    {
     "data": {
      "text/html": [
       "<div>\n",
       "<style scoped>\n",
       "    .dataframe tbody tr th:only-of-type {\n",
       "        vertical-align: middle;\n",
       "    }\n",
       "\n",
       "    .dataframe tbody tr th {\n",
       "        vertical-align: top;\n",
       "    }\n",
       "\n",
       "    .dataframe thead th {\n",
       "        text-align: right;\n",
       "    }\n",
       "</style>\n",
       "<table border=\"1\" class=\"dataframe\">\n",
       "  <thead>\n",
       "    <tr style=\"text-align: right;\">\n",
       "      <th></th>\n",
       "      <th>country_code</th>\n",
       "      <th>month</th>\n",
       "      <th>distance</th>\n",
       "    </tr>\n",
       "  </thead>\n",
       "  <tbody>\n",
       "    <tr>\n",
       "      <th>0</th>\n",
       "      <td>BB</td>\n",
       "      <td>10.0</td>\n",
       "      <td>2.87363</td>\n",
       "    </tr>\n",
       "    <tr>\n",
       "      <th>1</th>\n",
       "      <td>BM</td>\n",
       "      <td>2.0</td>\n",
       "      <td>0.89751</td>\n",
       "    </tr>\n",
       "    <tr>\n",
       "      <th>2</th>\n",
       "      <td>BM</td>\n",
       "      <td>9.0</td>\n",
       "      <td>1.54715</td>\n",
       "    </tr>\n",
       "    <tr>\n",
       "      <th>3</th>\n",
       "      <td>BR</td>\n",
       "      <td>1.0</td>\n",
       "      <td>1.04062</td>\n",
       "    </tr>\n",
       "    <tr>\n",
       "      <th>4</th>\n",
       "      <td>BR</td>\n",
       "      <td>3.0</td>\n",
       "      <td>0.17020</td>\n",
       "    </tr>\n",
       "    <tr>\n",
       "      <th>...</th>\n",
       "      <td>...</td>\n",
       "      <td>...</td>\n",
       "      <td>...</td>\n",
       "    </tr>\n",
       "    <tr>\n",
       "      <th>178</th>\n",
       "      <td>VE</td>\n",
       "      <td>9.0</td>\n",
       "      <td>6.65506</td>\n",
       "    </tr>\n",
       "    <tr>\n",
       "      <th>179</th>\n",
       "      <td>VE</td>\n",
       "      <td>11.0</td>\n",
       "      <td>5.50863</td>\n",
       "    </tr>\n",
       "    <tr>\n",
       "      <th>180</th>\n",
       "      <td>VE</td>\n",
       "      <td>12.0</td>\n",
       "      <td>2.55507</td>\n",
       "    </tr>\n",
       "    <tr>\n",
       "      <th>181</th>\n",
       "      <td>VI</td>\n",
       "      <td>5.0</td>\n",
       "      <td>2.79535</td>\n",
       "    </tr>\n",
       "    <tr>\n",
       "      <th>182</th>\n",
       "      <td>VI</td>\n",
       "      <td>10.0</td>\n",
       "      <td>7.62051</td>\n",
       "    </tr>\n",
       "  </tbody>\n",
       "</table>\n",
       "<p>183 rows × 3 columns</p>\n",
       "</div>"
      ],
      "text/plain": [
       "    country_code  month  distance\n",
       "0             BB   10.0   2.87363\n",
       "1             BM    2.0   0.89751\n",
       "2             BM    9.0   1.54715\n",
       "3             BR    1.0   1.04062\n",
       "4             BR    3.0   0.17020\n",
       "..           ...    ...       ...\n",
       "178           VE    9.0   6.65506\n",
       "179           VE   11.0   5.50863\n",
       "180           VE   12.0   2.55507\n",
       "181           VI    5.0   2.79535\n",
       "182           VI   10.0   7.62051\n",
       "\n",
       "[183 rows x 3 columns]"
      ]
     },
     "execution_count": 53,
     "metadata": {},
     "output_type": "execute_result"
    }
   ],
   "source": [
    "dfavg"
   ]
  },
  {
   "cell_type": "code",
   "execution_count": 44,
   "id": "d02f2bb9",
   "metadata": {},
   "outputs": [
    {
     "data": {
      "text/html": [
       "<div>\n",
       "<style scoped>\n",
       "    .dataframe tbody tr th:only-of-type {\n",
       "        vertical-align: middle;\n",
       "    }\n",
       "\n",
       "    .dataframe tbody tr th {\n",
       "        vertical-align: top;\n",
       "    }\n",
       "\n",
       "    .dataframe thead th {\n",
       "        text-align: right;\n",
       "    }\n",
       "</style>\n",
       "<table border=\"1\" class=\"dataframe\">\n",
       "  <thead>\n",
       "    <tr style=\"text-align: right;\">\n",
       "      <th></th>\n",
       "      <th>id</th>\n",
       "      <th>date</th>\n",
       "      <th>time</th>\n",
       "      <th>continent_code</th>\n",
       "      <th>country_name</th>\n",
       "      <th>country_code</th>\n",
       "      <th>state/province</th>\n",
       "      <th>population</th>\n",
       "      <th>city/town</th>\n",
       "      <th>distance</th>\n",
       "      <th>...</th>\n",
       "      <th>hazard_type</th>\n",
       "      <th>landslide_type</th>\n",
       "      <th>landslide_size</th>\n",
       "      <th>trigger</th>\n",
       "      <th>storm_name</th>\n",
       "      <th>injuries</th>\n",
       "      <th>fatalities</th>\n",
       "      <th>source_name</th>\n",
       "      <th>source_link</th>\n",
       "      <th>month</th>\n",
       "    </tr>\n",
       "  </thead>\n",
       "  <tbody>\n",
       "    <tr>\n",
       "      <th>0</th>\n",
       "      <td>34</td>\n",
       "      <td>2007-03-02</td>\n",
       "      <td>Night</td>\n",
       "      <td>NaN</td>\n",
       "      <td>United States</td>\n",
       "      <td>US</td>\n",
       "      <td>Virginia</td>\n",
       "      <td>16000</td>\n",
       "      <td>Cherry Hill</td>\n",
       "      <td>3.40765</td>\n",
       "      <td>...</td>\n",
       "      <td>Landslide</td>\n",
       "      <td>Landslide</td>\n",
       "      <td>Small</td>\n",
       "      <td>Rain</td>\n",
       "      <td>NaN</td>\n",
       "      <td>NaN</td>\n",
       "      <td>NaN</td>\n",
       "      <td>NBC 4 news</td>\n",
       "      <td>http://www.nbc4.com/news/11186871/detail.html</td>\n",
       "      <td>3.0</td>\n",
       "    </tr>\n",
       "    <tr>\n",
       "      <th>1</th>\n",
       "      <td>42</td>\n",
       "      <td>2007-03-22</td>\n",
       "      <td>NaN</td>\n",
       "      <td>NaN</td>\n",
       "      <td>United States</td>\n",
       "      <td>US</td>\n",
       "      <td>Ohio</td>\n",
       "      <td>17288</td>\n",
       "      <td>New Philadelphia</td>\n",
       "      <td>3.33522</td>\n",
       "      <td>...</td>\n",
       "      <td>Landslide</td>\n",
       "      <td>Landslide</td>\n",
       "      <td>Small</td>\n",
       "      <td>Rain</td>\n",
       "      <td>NaN</td>\n",
       "      <td>NaN</td>\n",
       "      <td>NaN</td>\n",
       "      <td>Canton Rep.com</td>\n",
       "      <td>http://www.cantonrep.com/index.php?ID=345054&amp;C...</td>\n",
       "      <td>3.0</td>\n",
       "    </tr>\n",
       "    <tr>\n",
       "      <th>2</th>\n",
       "      <td>56</td>\n",
       "      <td>2007-04-06</td>\n",
       "      <td>NaN</td>\n",
       "      <td>NaN</td>\n",
       "      <td>United States</td>\n",
       "      <td>US</td>\n",
       "      <td>Pennsylvania</td>\n",
       "      <td>15930</td>\n",
       "      <td>Wilkinsburg</td>\n",
       "      <td>2.91977</td>\n",
       "      <td>...</td>\n",
       "      <td>Landslide</td>\n",
       "      <td>Landslide</td>\n",
       "      <td>Small</td>\n",
       "      <td>Rain</td>\n",
       "      <td>NaN</td>\n",
       "      <td>NaN</td>\n",
       "      <td>NaN</td>\n",
       "      <td>The Pittsburgh Channel.com</td>\n",
       "      <td>https://web.archive.org/web/20080423132842/htt...</td>\n",
       "      <td>4.0</td>\n",
       "    </tr>\n",
       "    <tr>\n",
       "      <th>3</th>\n",
       "      <td>59</td>\n",
       "      <td>2007-04-14</td>\n",
       "      <td>NaN</td>\n",
       "      <td>NaN</td>\n",
       "      <td>Canada</td>\n",
       "      <td>CA</td>\n",
       "      <td>Quebec</td>\n",
       "      <td>42786</td>\n",
       "      <td>Châteauguay</td>\n",
       "      <td>2.98682</td>\n",
       "      <td>...</td>\n",
       "      <td>Landslide</td>\n",
       "      <td>Riverbank collapse</td>\n",
       "      <td>Small</td>\n",
       "      <td>Rain</td>\n",
       "      <td>NaN</td>\n",
       "      <td>NaN</td>\n",
       "      <td>NaN</td>\n",
       "      <td>Le Soleil</td>\n",
       "      <td>http://www.hebdos.net/lsc/edition162007/articl...</td>\n",
       "      <td>4.0</td>\n",
       "    </tr>\n",
       "    <tr>\n",
       "      <th>4</th>\n",
       "      <td>61</td>\n",
       "      <td>2007-04-15</td>\n",
       "      <td>NaN</td>\n",
       "      <td>NaN</td>\n",
       "      <td>United States</td>\n",
       "      <td>US</td>\n",
       "      <td>Kentucky</td>\n",
       "      <td>6903</td>\n",
       "      <td>Pikeville</td>\n",
       "      <td>5.66542</td>\n",
       "      <td>...</td>\n",
       "      <td>Landslide</td>\n",
       "      <td>Landslide</td>\n",
       "      <td>Small</td>\n",
       "      <td>Downpour</td>\n",
       "      <td>NaN</td>\n",
       "      <td>NaN</td>\n",
       "      <td>0.0</td>\n",
       "      <td>Matthew Crawford (KGS)</td>\n",
       "      <td>NaN</td>\n",
       "      <td>4.0</td>\n",
       "    </tr>\n",
       "  </tbody>\n",
       "</table>\n",
       "<p>5 rows × 24 columns</p>\n",
       "</div>"
      ],
      "text/plain": [
       "   id       date   time continent_code   country_name country_code  \\\n",
       "0  34 2007-03-02  Night            NaN  United States           US   \n",
       "1  42 2007-03-22    NaN            NaN  United States           US   \n",
       "2  56 2007-04-06    NaN            NaN  United States           US   \n",
       "3  59 2007-04-14    NaN            NaN         Canada           CA   \n",
       "4  61 2007-04-15    NaN            NaN  United States           US   \n",
       "\n",
       "  state/province  population         city/town  distance  ... hazard_type  \\\n",
       "0       Virginia       16000       Cherry Hill   3.40765  ...   Landslide   \n",
       "1           Ohio       17288  New Philadelphia   3.33522  ...   Landslide   \n",
       "2   Pennsylvania       15930       Wilkinsburg   2.91977  ...   Landslide   \n",
       "3         Quebec       42786       Châteauguay   2.98682  ...   Landslide   \n",
       "4       Kentucky        6903         Pikeville   5.66542  ...   Landslide   \n",
       "\n",
       "       landslide_type  landslide_size   trigger storm_name injuries  \\\n",
       "0           Landslide           Small      Rain        NaN      NaN   \n",
       "1           Landslide           Small      Rain        NaN      NaN   \n",
       "2           Landslide           Small      Rain        NaN      NaN   \n",
       "3  Riverbank collapse           Small      Rain        NaN      NaN   \n",
       "4           Landslide           Small  Downpour        NaN      NaN   \n",
       "\n",
       "  fatalities                 source_name  \\\n",
       "0        NaN                  NBC 4 news   \n",
       "1        NaN              Canton Rep.com   \n",
       "2        NaN  The Pittsburgh Channel.com   \n",
       "3        NaN                   Le Soleil   \n",
       "4        0.0      Matthew Crawford (KGS)   \n",
       "\n",
       "                                         source_link  month  \n",
       "0      http://www.nbc4.com/news/11186871/detail.html    3.0  \n",
       "1  http://www.cantonrep.com/index.php?ID=345054&C...    3.0  \n",
       "2  https://web.archive.org/web/20080423132842/htt...    4.0  \n",
       "3  http://www.hebdos.net/lsc/edition162007/articl...    4.0  \n",
       "4                                                NaN    4.0  \n",
       "\n",
       "[5 rows x 24 columns]"
      ]
     },
     "execution_count": 44,
     "metadata": {},
     "output_type": "execute_result"
    }
   ],
   "source": [
    "landslides.head()"
   ]
  },
  {
   "cell_type": "code",
   "execution_count": 37,
   "id": "fbdf5ee6",
   "metadata": {},
   "outputs": [
    {
     "data": {
      "text/plain": [
       "0        3.0\n",
       "1        3.0\n",
       "2        4.0\n",
       "3        4.0\n",
       "4        4.0\n",
       "        ... \n",
       "1688    12.0\n",
       "1689     2.0\n",
       "1690     2.0\n",
       "1691     2.0\n",
       "1692     3.0\n",
       "Name: date, Length: 1693, dtype: float64"
      ]
     },
     "execution_count": 37,
     "metadata": {},
     "output_type": "execute_result"
    }
   ],
   "source": [
    "landslides.date.dt.month"
   ]
  },
  {
   "cell_type": "code",
   "execution_count": 38,
   "id": "4ecbdc97",
   "metadata": {},
   "outputs": [
    {
     "data": {
      "text/plain": [
       "0        2.0\n",
       "1       22.0\n",
       "2        6.0\n",
       "3       14.0\n",
       "4       15.0\n",
       "        ... \n",
       "1688     7.0\n",
       "1689    22.0\n",
       "1690    23.0\n",
       "1691    26.0\n",
       "1692     2.0\n",
       "Name: date, Length: 1693, dtype: float64"
      ]
     },
     "execution_count": 38,
     "metadata": {},
     "output_type": "execute_result"
    }
   ],
   "source": [
    "landslides.date.dt.day"
   ]
  },
  {
   "cell_type": "code",
   "execution_count": 39,
   "id": "5ea10c46",
   "metadata": {},
   "outputs": [
    {
     "data": {
      "text/plain": [
       "0       1.0\n",
       "1       1.0\n",
       "2       2.0\n",
       "3       2.0\n",
       "4       2.0\n",
       "       ... \n",
       "1688    4.0\n",
       "1689    1.0\n",
       "1690    1.0\n",
       "1691    1.0\n",
       "1692    1.0\n",
       "Name: date, Length: 1693, dtype: float64"
      ]
     },
     "execution_count": 39,
     "metadata": {},
     "output_type": "execute_result"
    }
   ],
   "source": [
    "landslides.date.dt.quarter"
   ]
  },
  {
   "cell_type": "code",
   "execution_count": 58,
   "id": "3079dca1",
   "metadata": {},
   "outputs": [],
   "source": [
    "# modules we'll use\n",
    "import pandas as pd\n",
    "import numpy as np\n",
    "import seaborn as sns\n",
    "import datetime\n",
    "\n",
    "# read in our data\n",
    "landslides = pd.read_csv(\"catalog.csv\")\n",
    "\n",
    "# set seed for reproducibility\n",
    "np.random.seed(0)"
   ]
  },
  {
   "cell_type": "code",
   "execution_count": 59,
   "id": "135ef44b",
   "metadata": {},
   "outputs": [
    {
     "data": {
      "text/plain": [
       "dtype('O')"
      ]
     },
     "execution_count": 59,
     "metadata": {},
     "output_type": "execute_result"
    }
   ],
   "source": [
    "# check the data type of our date column\n",
    "landslides['date'].dtype"
   ]
  },
  {
   "cell_type": "code",
   "execution_count": 60,
   "id": "09e8381c",
   "metadata": {},
   "outputs": [],
   "source": [
    "# create a new column, date_parsed, with the parsed dates\n",
    "landslides['date_parsed'] = pd.to_datetime(landslides['date'], format=\"%m/%d/%y\")"
   ]
  },
  {
   "cell_type": "code",
   "execution_count": 62,
   "id": "e1be8655",
   "metadata": {},
   "outputs": [],
   "source": [
    "landslides['date_parsed2'] = pd.to_datetime(landslides['date'], infer_datetime_format=True)"
   ]
  },
  {
   "cell_type": "code",
   "execution_count": 65,
   "id": "c11003c8",
   "metadata": {},
   "outputs": [
    {
     "data": {
      "text/plain": [
       "id                               int64\n",
       "date                            object\n",
       "time                            object\n",
       "continent_code                  object\n",
       "country_name                    object\n",
       "country_code                    object\n",
       "state/province                  object\n",
       "population                       int64\n",
       "city/town                       object\n",
       "distance                       float64\n",
       "location_description            object\n",
       "latitude                       float64\n",
       "longitude                      float64\n",
       "geolocation                     object\n",
       "hazard_type                     object\n",
       "landslide_type                  object\n",
       "landslide_size                  object\n",
       "trigger                         object\n",
       "storm_name                      object\n",
       "injuries                       float64\n",
       "fatalities                     float64\n",
       "source_name                     object\n",
       "source_link                     object\n",
       "date_parsed             datetime64[ns]\n",
       "date_parsed2            datetime64[ns]\n",
       "dtype: object"
      ]
     },
     "execution_count": 65,
     "metadata": {},
     "output_type": "execute_result"
    }
   ],
   "source": [
    "landslides.dtypes"
   ]
  },
  {
   "cell_type": "code",
   "execution_count": 63,
   "id": "c87a6430",
   "metadata": {},
   "outputs": [
    {
     "data": {
      "text/html": [
       "<div>\n",
       "<style scoped>\n",
       "    .dataframe tbody tr th:only-of-type {\n",
       "        vertical-align: middle;\n",
       "    }\n",
       "\n",
       "    .dataframe tbody tr th {\n",
       "        vertical-align: top;\n",
       "    }\n",
       "\n",
       "    .dataframe thead th {\n",
       "        text-align: right;\n",
       "    }\n",
       "</style>\n",
       "<table border=\"1\" class=\"dataframe\">\n",
       "  <thead>\n",
       "    <tr style=\"text-align: right;\">\n",
       "      <th></th>\n",
       "      <th>id</th>\n",
       "      <th>date</th>\n",
       "      <th>time</th>\n",
       "      <th>continent_code</th>\n",
       "      <th>country_name</th>\n",
       "      <th>country_code</th>\n",
       "      <th>state/province</th>\n",
       "      <th>population</th>\n",
       "      <th>city/town</th>\n",
       "      <th>distance</th>\n",
       "      <th>...</th>\n",
       "      <th>landslide_type</th>\n",
       "      <th>landslide_size</th>\n",
       "      <th>trigger</th>\n",
       "      <th>storm_name</th>\n",
       "      <th>injuries</th>\n",
       "      <th>fatalities</th>\n",
       "      <th>source_name</th>\n",
       "      <th>source_link</th>\n",
       "      <th>date_parsed</th>\n",
       "      <th>date_parsed2</th>\n",
       "    </tr>\n",
       "  </thead>\n",
       "  <tbody>\n",
       "    <tr>\n",
       "      <th>0</th>\n",
       "      <td>34</td>\n",
       "      <td>3/2/07</td>\n",
       "      <td>Night</td>\n",
       "      <td>NaN</td>\n",
       "      <td>United States</td>\n",
       "      <td>US</td>\n",
       "      <td>Virginia</td>\n",
       "      <td>16000</td>\n",
       "      <td>Cherry Hill</td>\n",
       "      <td>3.40765</td>\n",
       "      <td>...</td>\n",
       "      <td>Landslide</td>\n",
       "      <td>Small</td>\n",
       "      <td>Rain</td>\n",
       "      <td>NaN</td>\n",
       "      <td>NaN</td>\n",
       "      <td>NaN</td>\n",
       "      <td>NBC 4 news</td>\n",
       "      <td>http://www.nbc4.com/news/11186871/detail.html</td>\n",
       "      <td>2007-03-02</td>\n",
       "      <td>2007-03-02</td>\n",
       "    </tr>\n",
       "    <tr>\n",
       "      <th>1</th>\n",
       "      <td>42</td>\n",
       "      <td>3/22/07</td>\n",
       "      <td>NaN</td>\n",
       "      <td>NaN</td>\n",
       "      <td>United States</td>\n",
       "      <td>US</td>\n",
       "      <td>Ohio</td>\n",
       "      <td>17288</td>\n",
       "      <td>New Philadelphia</td>\n",
       "      <td>3.33522</td>\n",
       "      <td>...</td>\n",
       "      <td>Landslide</td>\n",
       "      <td>Small</td>\n",
       "      <td>Rain</td>\n",
       "      <td>NaN</td>\n",
       "      <td>NaN</td>\n",
       "      <td>NaN</td>\n",
       "      <td>Canton Rep.com</td>\n",
       "      <td>http://www.cantonrep.com/index.php?ID=345054&amp;C...</td>\n",
       "      <td>2007-03-22</td>\n",
       "      <td>2007-03-22</td>\n",
       "    </tr>\n",
       "    <tr>\n",
       "      <th>2</th>\n",
       "      <td>56</td>\n",
       "      <td>4/6/07</td>\n",
       "      <td>NaN</td>\n",
       "      <td>NaN</td>\n",
       "      <td>United States</td>\n",
       "      <td>US</td>\n",
       "      <td>Pennsylvania</td>\n",
       "      <td>15930</td>\n",
       "      <td>Wilkinsburg</td>\n",
       "      <td>2.91977</td>\n",
       "      <td>...</td>\n",
       "      <td>Landslide</td>\n",
       "      <td>Small</td>\n",
       "      <td>Rain</td>\n",
       "      <td>NaN</td>\n",
       "      <td>NaN</td>\n",
       "      <td>NaN</td>\n",
       "      <td>The Pittsburgh Channel.com</td>\n",
       "      <td>https://web.archive.org/web/20080423132842/htt...</td>\n",
       "      <td>2007-04-06</td>\n",
       "      <td>2007-04-06</td>\n",
       "    </tr>\n",
       "    <tr>\n",
       "      <th>3</th>\n",
       "      <td>59</td>\n",
       "      <td>4/14/07</td>\n",
       "      <td>NaN</td>\n",
       "      <td>NaN</td>\n",
       "      <td>Canada</td>\n",
       "      <td>CA</td>\n",
       "      <td>Quebec</td>\n",
       "      <td>42786</td>\n",
       "      <td>Châteauguay</td>\n",
       "      <td>2.98682</td>\n",
       "      <td>...</td>\n",
       "      <td>Riverbank collapse</td>\n",
       "      <td>Small</td>\n",
       "      <td>Rain</td>\n",
       "      <td>NaN</td>\n",
       "      <td>NaN</td>\n",
       "      <td>NaN</td>\n",
       "      <td>Le Soleil</td>\n",
       "      <td>http://www.hebdos.net/lsc/edition162007/articl...</td>\n",
       "      <td>2007-04-14</td>\n",
       "      <td>2007-04-14</td>\n",
       "    </tr>\n",
       "    <tr>\n",
       "      <th>4</th>\n",
       "      <td>61</td>\n",
       "      <td>4/15/07</td>\n",
       "      <td>NaN</td>\n",
       "      <td>NaN</td>\n",
       "      <td>United States</td>\n",
       "      <td>US</td>\n",
       "      <td>Kentucky</td>\n",
       "      <td>6903</td>\n",
       "      <td>Pikeville</td>\n",
       "      <td>5.66542</td>\n",
       "      <td>...</td>\n",
       "      <td>Landslide</td>\n",
       "      <td>Small</td>\n",
       "      <td>Downpour</td>\n",
       "      <td>NaN</td>\n",
       "      <td>NaN</td>\n",
       "      <td>0.0</td>\n",
       "      <td>Matthew Crawford (KGS)</td>\n",
       "      <td>NaN</td>\n",
       "      <td>2007-04-15</td>\n",
       "      <td>2007-04-15</td>\n",
       "    </tr>\n",
       "  </tbody>\n",
       "</table>\n",
       "<p>5 rows × 25 columns</p>\n",
       "</div>"
      ],
      "text/plain": [
       "   id     date   time continent_code   country_name country_code  \\\n",
       "0  34   3/2/07  Night            NaN  United States           US   \n",
       "1  42  3/22/07    NaN            NaN  United States           US   \n",
       "2  56   4/6/07    NaN            NaN  United States           US   \n",
       "3  59  4/14/07    NaN            NaN         Canada           CA   \n",
       "4  61  4/15/07    NaN            NaN  United States           US   \n",
       "\n",
       "  state/province  population         city/town  distance  ...  \\\n",
       "0       Virginia       16000       Cherry Hill   3.40765  ...   \n",
       "1           Ohio       17288  New Philadelphia   3.33522  ...   \n",
       "2   Pennsylvania       15930       Wilkinsburg   2.91977  ...   \n",
       "3         Quebec       42786       Châteauguay   2.98682  ...   \n",
       "4       Kentucky        6903         Pikeville   5.66542  ...   \n",
       "\n",
       "       landslide_type  landslide_size   trigger storm_name injuries  \\\n",
       "0           Landslide           Small      Rain        NaN      NaN   \n",
       "1           Landslide           Small      Rain        NaN      NaN   \n",
       "2           Landslide           Small      Rain        NaN      NaN   \n",
       "3  Riverbank collapse           Small      Rain        NaN      NaN   \n",
       "4           Landslide           Small  Downpour        NaN      NaN   \n",
       "\n",
       "  fatalities                 source_name  \\\n",
       "0        NaN                  NBC 4 news   \n",
       "1        NaN              Canton Rep.com   \n",
       "2        NaN  The Pittsburgh Channel.com   \n",
       "3        NaN                   Le Soleil   \n",
       "4        0.0      Matthew Crawford (KGS)   \n",
       "\n",
       "                                         source_link date_parsed  date_parsed2  \n",
       "0      http://www.nbc4.com/news/11186871/detail.html  2007-03-02    2007-03-02  \n",
       "1  http://www.cantonrep.com/index.php?ID=345054&C...  2007-03-22    2007-03-22  \n",
       "2  https://web.archive.org/web/20080423132842/htt...  2007-04-06    2007-04-06  \n",
       "3  http://www.hebdos.net/lsc/edition162007/articl...  2007-04-14    2007-04-14  \n",
       "4                                                NaN  2007-04-15    2007-04-15  \n",
       "\n",
       "[5 rows x 25 columns]"
      ]
     },
     "execution_count": 63,
     "metadata": {},
     "output_type": "execute_result"
    }
   ],
   "source": [
    "landslides.head()"
   ]
  },
  {
   "cell_type": "code",
   "execution_count": 66,
   "id": "3708c08b",
   "metadata": {},
   "outputs": [
    {
     "ename": "AttributeError",
     "evalue": "Can only use .dt accessor with datetimelike values",
     "output_type": "error",
     "traceback": [
      "\u001b[1;31m---------------------------------------------------------------------------\u001b[0m",
      "\u001b[1;31mAttributeError\u001b[0m                            Traceback (most recent call last)",
      "\u001b[1;32m~\\AppData\\Local\\Temp\\ipykernel_324\\3158981790.py\u001b[0m in \u001b[0;36m<module>\u001b[1;34m\u001b[0m\n\u001b[1;32m----> 1\u001b[1;33m \u001b[0mlandslides\u001b[0m\u001b[1;33m.\u001b[0m\u001b[0mdate\u001b[0m\u001b[1;33m.\u001b[0m\u001b[0mdt\u001b[0m\u001b[1;33m\u001b[0m\u001b[1;33m\u001b[0m\u001b[0m\n\u001b[0m",
      "\u001b[1;32mC:\\ProgramData\\Anaconda3\\lib\\site-packages\\pandas\\core\\generic.py\u001b[0m in \u001b[0;36m__getattr__\u001b[1;34m(self, name)\u001b[0m\n\u001b[0;32m   5573\u001b[0m         ):\n\u001b[0;32m   5574\u001b[0m             \u001b[1;32mreturn\u001b[0m \u001b[0mself\u001b[0m\u001b[1;33m[\u001b[0m\u001b[0mname\u001b[0m\u001b[1;33m]\u001b[0m\u001b[1;33m\u001b[0m\u001b[1;33m\u001b[0m\u001b[0m\n\u001b[1;32m-> 5575\u001b[1;33m         \u001b[1;32mreturn\u001b[0m \u001b[0mobject\u001b[0m\u001b[1;33m.\u001b[0m\u001b[0m__getattribute__\u001b[0m\u001b[1;33m(\u001b[0m\u001b[0mself\u001b[0m\u001b[1;33m,\u001b[0m \u001b[0mname\u001b[0m\u001b[1;33m)\u001b[0m\u001b[1;33m\u001b[0m\u001b[1;33m\u001b[0m\u001b[0m\n\u001b[0m\u001b[0;32m   5576\u001b[0m \u001b[1;33m\u001b[0m\u001b[0m\n\u001b[0;32m   5577\u001b[0m     \u001b[1;32mdef\u001b[0m \u001b[0m__setattr__\u001b[0m\u001b[1;33m(\u001b[0m\u001b[0mself\u001b[0m\u001b[1;33m,\u001b[0m \u001b[0mname\u001b[0m\u001b[1;33m:\u001b[0m \u001b[0mstr\u001b[0m\u001b[1;33m,\u001b[0m \u001b[0mvalue\u001b[0m\u001b[1;33m)\u001b[0m \u001b[1;33m->\u001b[0m \u001b[1;32mNone\u001b[0m\u001b[1;33m:\u001b[0m\u001b[1;33m\u001b[0m\u001b[1;33m\u001b[0m\u001b[0m\n",
      "\u001b[1;32mC:\\ProgramData\\Anaconda3\\lib\\site-packages\\pandas\\core\\accessor.py\u001b[0m in \u001b[0;36m__get__\u001b[1;34m(self, obj, cls)\u001b[0m\n\u001b[0;32m    180\u001b[0m             \u001b[1;31m# we're accessing the attribute of the class, i.e., Dataset.geo\u001b[0m\u001b[1;33m\u001b[0m\u001b[1;33m\u001b[0m\u001b[0m\n\u001b[0;32m    181\u001b[0m             \u001b[1;32mreturn\u001b[0m \u001b[0mself\u001b[0m\u001b[1;33m.\u001b[0m\u001b[0m_accessor\u001b[0m\u001b[1;33m\u001b[0m\u001b[1;33m\u001b[0m\u001b[0m\n\u001b[1;32m--> 182\u001b[1;33m         \u001b[0maccessor_obj\u001b[0m \u001b[1;33m=\u001b[0m \u001b[0mself\u001b[0m\u001b[1;33m.\u001b[0m\u001b[0m_accessor\u001b[0m\u001b[1;33m(\u001b[0m\u001b[0mobj\u001b[0m\u001b[1;33m)\u001b[0m\u001b[1;33m\u001b[0m\u001b[1;33m\u001b[0m\u001b[0m\n\u001b[0m\u001b[0;32m    183\u001b[0m         \u001b[1;31m# Replace the property with the accessor object. Inspired by:\u001b[0m\u001b[1;33m\u001b[0m\u001b[1;33m\u001b[0m\u001b[0m\n\u001b[0;32m    184\u001b[0m         \u001b[1;31m# https://www.pydanny.com/cached-property.html\u001b[0m\u001b[1;33m\u001b[0m\u001b[1;33m\u001b[0m\u001b[0m\n",
      "\u001b[1;32mC:\\ProgramData\\Anaconda3\\lib\\site-packages\\pandas\\core\\indexes\\accessors.py\u001b[0m in \u001b[0;36m__new__\u001b[1;34m(cls, data)\u001b[0m\n\u001b[0;32m    507\u001b[0m             \u001b[1;32mreturn\u001b[0m \u001b[0mPeriodProperties\u001b[0m\u001b[1;33m(\u001b[0m\u001b[0mdata\u001b[0m\u001b[1;33m,\u001b[0m \u001b[0morig\u001b[0m\u001b[1;33m)\u001b[0m\u001b[1;33m\u001b[0m\u001b[1;33m\u001b[0m\u001b[0m\n\u001b[0;32m    508\u001b[0m \u001b[1;33m\u001b[0m\u001b[0m\n\u001b[1;32m--> 509\u001b[1;33m         \u001b[1;32mraise\u001b[0m \u001b[0mAttributeError\u001b[0m\u001b[1;33m(\u001b[0m\u001b[1;34m\"Can only use .dt accessor with datetimelike values\"\u001b[0m\u001b[1;33m)\u001b[0m\u001b[1;33m\u001b[0m\u001b[1;33m\u001b[0m\u001b[0m\n\u001b[0m",
      "\u001b[1;31mAttributeError\u001b[0m: Can only use .dt accessor with datetimelike values"
     ]
    }
   ],
   "source": [
    "landslides.date.dt"
   ]
  },
  {
   "cell_type": "code",
   "execution_count": 67,
   "id": "84f9cb03",
   "metadata": {},
   "outputs": [
    {
     "data": {
      "text/plain": [
       "0     2.0\n",
       "1    22.0\n",
       "2     6.0\n",
       "3    14.0\n",
       "4    15.0\n",
       "Name: date_parsed, dtype: float64"
      ]
     },
     "execution_count": 67,
     "metadata": {},
     "output_type": "execute_result"
    }
   ],
   "source": [
    "# get the day of the month from the date_parsed column\n",
    "day_of_month_landslides = landslides['date_parsed'].dt.day\n",
    "day_of_month_landslides.head()"
   ]
  },
  {
   "cell_type": "code",
   "execution_count": 68,
   "id": "0b4669fc",
   "metadata": {},
   "outputs": [
    {
     "data": {
      "text/plain": [
       "3"
      ]
     },
     "execution_count": 68,
     "metadata": {},
     "output_type": "execute_result"
    }
   ],
   "source": [
    "day_of_month_landslides.isnull().sum()"
   ]
  },
  {
   "cell_type": "code",
   "execution_count": 69,
   "id": "3b974d71",
   "metadata": {},
   "outputs": [],
   "source": [
    "# remove na's\n",
    "day_of_month_landslides = day_of_month_landslides.dropna()"
   ]
  },
  {
   "cell_type": "code",
   "execution_count": 70,
   "id": "7f181d38",
   "metadata": {},
   "outputs": [
    {
     "data": {
      "text/plain": [
       "0"
      ]
     },
     "execution_count": 70,
     "metadata": {},
     "output_type": "execute_result"
    }
   ],
   "source": [
    "day_of_month_landslides.isnull().sum()"
   ]
  },
  {
   "cell_type": "code",
   "execution_count": 74,
   "id": "6a32127a",
   "metadata": {},
   "outputs": [
    {
     "name": "stderr",
     "output_type": "stream",
     "text": [
      "C:\\ProgramData\\Anaconda3\\lib\\site-packages\\seaborn\\distributions.py:2619: FutureWarning: `distplot` is a deprecated function and will be removed in a future version. Please adapt your code to use either `displot` (a figure-level function with similar flexibility) or `histplot` (an axes-level function for histograms).\n",
      "  warnings.warn(msg, FutureWarning)\n"
     ]
    },
    {
     "data": {
      "image/png": "[encoded data removed]",
      "text/plain": [
       "<Figure size 640x480 with 1 Axes>"
      ]
     },
     "metadata": {},
     "output_type": "display_data"
    }
   ],
   "source": [
    "# plot the day of the month\n",
    "sns.distplot(day_of_month_landslides);"
   ]
  },
  {
   "cell_type": "code",
   "execution_count": 73,
   "id": "20455424",
   "metadata": {},
   "outputs": [
    {
     "data": {
      "image/png": "[encoded data removed]",
      "text/plain": [
       "<Figure size 640x480 with 1 Axes>"
      ]
     },
     "metadata": {},
     "output_type": "display_data"
    }
   ],
   "source": [
    "# plot the day of the month\n",
    "sns.distplot(day_of_month_landslides,  bins=31);"
   ]
  },
  {
   "cell_type": "code",
   "execution_count": 72,
   "id": "f16edef0",
   "metadata": {},
   "outputs": [
    {
     "data": {
      "image/png": "[encoded data removed]",
      "text/plain": [
       "<Figure size 640x480 with 1 Axes>"
      ]
     },
     "metadata": {},
     "output_type": "display_data"
    }
   ],
   "source": [
    "# plot the day of the month\n",
    "sns.distplot(day_of_month_landslides, kde=False, bins=31);"
   ]
  },
  {
   "cell_type": "code",
   "execution_count": null,
   "id": "1bb92770",
   "metadata": {},
   "outputs": [],
   "source": []
  }
 ],
 "metadata": {
  "kernelspec": {
   "display_name": "Python 3 (ipykernel)",
   "language": "python",
   "name": "python3"
  },
  "language_info": {
   "codemirror_mode": {
    "name": "ipython",
    "version": 3
   },
   "file_extension": ".py",
   "mimetype": "text/x-python",
   "name": "python",
   "nbconvert_exporter": "python",
   "pygments_lexer": "ipython3",
   "version": "3.9.13"
  }
 },
 "nbformat": 4,
 "nbformat_minor": 5
}
