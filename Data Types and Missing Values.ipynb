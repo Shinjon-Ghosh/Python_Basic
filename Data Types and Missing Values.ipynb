{
 "cells": [
  {
   "cell_type": "code",
   "execution_count": 1,
   "id": "d3a96e07",
   "metadata": {},
   "outputs": [],
   "source": [
    "import pandas as pd\n",
    "import numpy as np\n",
    "\n",
    "reviews = pd.read_csv(\"winemag-data_first150k.csv\", index_col=0)"
   ]
  },
  {
   "cell_type": "code",
   "execution_count": 2,
   "id": "2412350a",
   "metadata": {},
   "outputs": [
    {
     "data": {
      "text/plain": [
       "country         object\n",
       "description     object\n",
       "designation     object\n",
       "points           int64\n",
       "price          float64\n",
       "province        object\n",
       "region_1        object\n",
       "region_2        object\n",
       "variety         object\n",
       "winery          object\n",
       "dtype: object"
      ]
     },
     "execution_count": 2,
     "metadata": {},
     "output_type": "execute_result"
    }
   ],
   "source": [
    "reviews.dtypes"
   ]
  },
  {
   "cell_type": "code",
   "execution_count": 3,
   "id": "20565933",
   "metadata": {},
   "outputs": [
    {
     "data": {
      "text/plain": [
       "dtype('O')"
      ]
     },
     "execution_count": 3,
     "metadata": {},
     "output_type": "execute_result"
    }
   ],
   "source": [
    "reviews.country.dtype"
   ]
  },
  {
   "cell_type": "code",
   "execution_count": 4,
   "id": "31a9e325",
   "metadata": {},
   "outputs": [
    {
     "data": {
      "text/plain": [
       "dtype('float64')"
      ]
     },
     "execution_count": 4,
     "metadata": {},
     "output_type": "execute_result"
    }
   ],
   "source": [
    "reviews.price.dtype"
   ]
  },
  {
   "cell_type": "code",
   "execution_count": 6,
   "id": "df5bd26a",
   "metadata": {},
   "outputs": [],
   "source": [
    "reviews.points = reviews.points.astype('float64')\n",
    "# int, float, float32, float64"
   ]
  },
  {
   "cell_type": "code",
   "execution_count": 7,
   "id": "d0338186",
   "metadata": {},
   "outputs": [
    {
     "data": {
      "text/plain": [
       "dtype('float64')"
      ]
     },
     "execution_count": 7,
     "metadata": {},
     "output_type": "execute_result"
    }
   ],
   "source": [
    "reviews.points.dtype"
   ]
  },
  {
   "cell_type": "code",
   "execution_count": 8,
   "id": "92c3b3aa",
   "metadata": {},
   "outputs": [
    {
     "data": {
      "text/plain": [
       "country         object\n",
       "description     object\n",
       "designation     object\n",
       "points         float64\n",
       "price          float64\n",
       "province        object\n",
       "region_1        object\n",
       "region_2        object\n",
       "variety         object\n",
       "winery          object\n",
       "dtype: object"
      ]
     },
     "execution_count": 8,
     "metadata": {},
     "output_type": "execute_result"
    }
   ],
   "source": [
    "reviews.dtypes"
   ]
  },
  {
   "cell_type": "code",
   "execution_count": 9,
   "id": "4c03b5af",
   "metadata": {},
   "outputs": [
    {
     "data": {
      "text/plain": [
       "dtype('int64')"
      ]
     },
     "execution_count": 9,
     "metadata": {},
     "output_type": "execute_result"
    }
   ],
   "source": [
    "reviews.index.dtype"
   ]
  },
  {
   "cell_type": "code",
   "execution_count": 11,
   "id": "a634464a",
   "metadata": {},
   "outputs": [
    {
     "data": {
      "text/html": [
       "<div>\n",
       "<style scoped>\n",
       "    .dataframe tbody tr th:only-of-type {\n",
       "        vertical-align: middle;\n",
       "    }\n",
       "\n",
       "    .dataframe tbody tr th {\n",
       "        vertical-align: top;\n",
       "    }\n",
       "\n",
       "    .dataframe thead th {\n",
       "        text-align: right;\n",
       "    }\n",
       "</style>\n",
       "<table border=\"1\" class=\"dataframe\">\n",
       "  <thead>\n",
       "    <tr style=\"text-align: right;\">\n",
       "      <th></th>\n",
       "      <th>country</th>\n",
       "      <th>description</th>\n",
       "      <th>designation</th>\n",
       "      <th>points</th>\n",
       "      <th>price</th>\n",
       "      <th>province</th>\n",
       "      <th>region_1</th>\n",
       "      <th>region_2</th>\n",
       "      <th>variety</th>\n",
       "      <th>winery</th>\n",
       "    </tr>\n",
       "  </thead>\n",
       "  <tbody>\n",
       "    <tr>\n",
       "      <th>1133</th>\n",
       "      <td>NaN</td>\n",
       "      <td>Delicate white flowers and a spin of lemon pee...</td>\n",
       "      <td>Askitikos</td>\n",
       "      <td>90.0</td>\n",
       "      <td>17.0</td>\n",
       "      <td>NaN</td>\n",
       "      <td>NaN</td>\n",
       "      <td>NaN</td>\n",
       "      <td>Assyrtiko</td>\n",
       "      <td>Tsililis</td>\n",
       "    </tr>\n",
       "    <tr>\n",
       "      <th>1440</th>\n",
       "      <td>NaN</td>\n",
       "      <td>A blend of 60% Syrah, 30% Cabernet Sauvignon a...</td>\n",
       "      <td>Shah</td>\n",
       "      <td>90.0</td>\n",
       "      <td>30.0</td>\n",
       "      <td>NaN</td>\n",
       "      <td>NaN</td>\n",
       "      <td>NaN</td>\n",
       "      <td>Red Blend</td>\n",
       "      <td>Büyülübağ</td>\n",
       "    </tr>\n",
       "    <tr>\n",
       "      <th>68226</th>\n",
       "      <td>NaN</td>\n",
       "      <td>From first sniff to last, the nose never makes...</td>\n",
       "      <td>Piedra Feliz</td>\n",
       "      <td>81.0</td>\n",
       "      <td>15.0</td>\n",
       "      <td>NaN</td>\n",
       "      <td>NaN</td>\n",
       "      <td>NaN</td>\n",
       "      <td>Pinot Noir</td>\n",
       "      <td>Chilcas</td>\n",
       "    </tr>\n",
       "    <tr>\n",
       "      <th>113016</th>\n",
       "      <td>NaN</td>\n",
       "      <td>From first sniff to last, the nose never makes...</td>\n",
       "      <td>Piedra Feliz</td>\n",
       "      <td>81.0</td>\n",
       "      <td>15.0</td>\n",
       "      <td>NaN</td>\n",
       "      <td>NaN</td>\n",
       "      <td>NaN</td>\n",
       "      <td>Pinot Noir</td>\n",
       "      <td>Chilcas</td>\n",
       "    </tr>\n",
       "    <tr>\n",
       "      <th>135696</th>\n",
       "      <td>NaN</td>\n",
       "      <td>From first sniff to last, the nose never makes...</td>\n",
       "      <td>Piedra Feliz</td>\n",
       "      <td>81.0</td>\n",
       "      <td>15.0</td>\n",
       "      <td>NaN</td>\n",
       "      <td>NaN</td>\n",
       "      <td>NaN</td>\n",
       "      <td>Pinot Noir</td>\n",
       "      <td>Chilcas</td>\n",
       "    </tr>\n",
       "  </tbody>\n",
       "</table>\n",
       "</div>"
      ],
      "text/plain": [
       "       country                                        description  \\\n",
       "1133       NaN  Delicate white flowers and a spin of lemon pee...   \n",
       "1440       NaN  A blend of 60% Syrah, 30% Cabernet Sauvignon a...   \n",
       "68226      NaN  From first sniff to last, the nose never makes...   \n",
       "113016     NaN  From first sniff to last, the nose never makes...   \n",
       "135696     NaN  From first sniff to last, the nose never makes...   \n",
       "\n",
       "         designation  points  price province region_1 region_2     variety  \\\n",
       "1133       Askitikos    90.0   17.0      NaN      NaN      NaN   Assyrtiko   \n",
       "1440            Shah    90.0   30.0      NaN      NaN      NaN   Red Blend   \n",
       "68226   Piedra Feliz    81.0   15.0      NaN      NaN      NaN  Pinot Noir   \n",
       "113016  Piedra Feliz    81.0   15.0      NaN      NaN      NaN  Pinot Noir   \n",
       "135696  Piedra Feliz    81.0   15.0      NaN      NaN      NaN  Pinot Noir   \n",
       "\n",
       "           winery  \n",
       "1133     Tsililis  \n",
       "1440    Büyülübağ  \n",
       "68226     Chilcas  \n",
       "113016    Chilcas  \n",
       "135696    Chilcas  "
      ]
     },
     "execution_count": 11,
     "metadata": {},
     "output_type": "execute_result"
    }
   ],
   "source": [
    "reviews[reviews.country.isnull()]"
   ]
  },
  {
   "cell_type": "code",
   "execution_count": 13,
   "id": "cd1ec8bb",
   "metadata": {},
   "outputs": [
    {
     "data": {
      "text/html": [
       "<div>\n",
       "<style scoped>\n",
       "    .dataframe tbody tr th:only-of-type {\n",
       "        vertical-align: middle;\n",
       "    }\n",
       "\n",
       "    .dataframe tbody tr th {\n",
       "        vertical-align: top;\n",
       "    }\n",
       "\n",
       "    .dataframe thead th {\n",
       "        text-align: right;\n",
       "    }\n",
       "</style>\n",
       "<table border=\"1\" class=\"dataframe\">\n",
       "  <thead>\n",
       "    <tr style=\"text-align: right;\">\n",
       "      <th></th>\n",
       "      <th>country</th>\n",
       "      <th>description</th>\n",
       "      <th>designation</th>\n",
       "      <th>points</th>\n",
       "      <th>price</th>\n",
       "      <th>province</th>\n",
       "      <th>region_1</th>\n",
       "      <th>region_2</th>\n",
       "      <th>variety</th>\n",
       "      <th>winery</th>\n",
       "    </tr>\n",
       "  </thead>\n",
       "  <tbody>\n",
       "    <tr>\n",
       "      <th>1133</th>\n",
       "      <td>NaN</td>\n",
       "      <td>Delicate white flowers and a spin of lemon pee...</td>\n",
       "      <td>Askitikos</td>\n",
       "      <td>90.0</td>\n",
       "      <td>17.0</td>\n",
       "      <td>NaN</td>\n",
       "      <td>NaN</td>\n",
       "      <td>NaN</td>\n",
       "      <td>Assyrtiko</td>\n",
       "      <td>Tsililis</td>\n",
       "    </tr>\n",
       "    <tr>\n",
       "      <th>1440</th>\n",
       "      <td>NaN</td>\n",
       "      <td>A blend of 60% Syrah, 30% Cabernet Sauvignon a...</td>\n",
       "      <td>Shah</td>\n",
       "      <td>90.0</td>\n",
       "      <td>30.0</td>\n",
       "      <td>NaN</td>\n",
       "      <td>NaN</td>\n",
       "      <td>NaN</td>\n",
       "      <td>Red Blend</td>\n",
       "      <td>Büyülübağ</td>\n",
       "    </tr>\n",
       "    <tr>\n",
       "      <th>68226</th>\n",
       "      <td>NaN</td>\n",
       "      <td>From first sniff to last, the nose never makes...</td>\n",
       "      <td>Piedra Feliz</td>\n",
       "      <td>81.0</td>\n",
       "      <td>15.0</td>\n",
       "      <td>NaN</td>\n",
       "      <td>NaN</td>\n",
       "      <td>NaN</td>\n",
       "      <td>Pinot Noir</td>\n",
       "      <td>Chilcas</td>\n",
       "    </tr>\n",
       "    <tr>\n",
       "      <th>113016</th>\n",
       "      <td>NaN</td>\n",
       "      <td>From first sniff to last, the nose never makes...</td>\n",
       "      <td>Piedra Feliz</td>\n",
       "      <td>81.0</td>\n",
       "      <td>15.0</td>\n",
       "      <td>NaN</td>\n",
       "      <td>NaN</td>\n",
       "      <td>NaN</td>\n",
       "      <td>Pinot Noir</td>\n",
       "      <td>Chilcas</td>\n",
       "    </tr>\n",
       "    <tr>\n",
       "      <th>135696</th>\n",
       "      <td>NaN</td>\n",
       "      <td>From first sniff to last, the nose never makes...</td>\n",
       "      <td>Piedra Feliz</td>\n",
       "      <td>81.0</td>\n",
       "      <td>15.0</td>\n",
       "      <td>NaN</td>\n",
       "      <td>NaN</td>\n",
       "      <td>NaN</td>\n",
       "      <td>Pinot Noir</td>\n",
       "      <td>Chilcas</td>\n",
       "    </tr>\n",
       "  </tbody>\n",
       "</table>\n",
       "</div>"
      ],
      "text/plain": [
       "       country                                        description  \\\n",
       "1133       NaN  Delicate white flowers and a spin of lemon pee...   \n",
       "1440       NaN  A blend of 60% Syrah, 30% Cabernet Sauvignon a...   \n",
       "68226      NaN  From first sniff to last, the nose never makes...   \n",
       "113016     NaN  From first sniff to last, the nose never makes...   \n",
       "135696     NaN  From first sniff to last, the nose never makes...   \n",
       "\n",
       "         designation  points  price province region_1 region_2     variety  \\\n",
       "1133       Askitikos    90.0   17.0      NaN      NaN      NaN   Assyrtiko   \n",
       "1440            Shah    90.0   30.0      NaN      NaN      NaN   Red Blend   \n",
       "68226   Piedra Feliz    81.0   15.0      NaN      NaN      NaN  Pinot Noir   \n",
       "113016  Piedra Feliz    81.0   15.0      NaN      NaN      NaN  Pinot Noir   \n",
       "135696  Piedra Feliz    81.0   15.0      NaN      NaN      NaN  Pinot Noir   \n",
       "\n",
       "           winery  \n",
       "1133     Tsililis  \n",
       "1440    Büyülübağ  \n",
       "68226     Chilcas  \n",
       "113016    Chilcas  \n",
       "135696    Chilcas  "
      ]
     },
     "execution_count": 13,
     "metadata": {},
     "output_type": "execute_result"
    }
   ],
   "source": [
    "reviews[pd.isnull(reviews.country)]"
   ]
  },
  {
   "cell_type": "code",
   "execution_count": 14,
   "id": "7bac567f",
   "metadata": {},
   "outputs": [
    {
     "data": {
      "text/plain": [
       "89977"
      ]
     },
     "execution_count": 14,
     "metadata": {},
     "output_type": "execute_result"
    }
   ],
   "source": [
    "reviews.region_2.isnull().sum()"
   ]
  },
  {
   "cell_type": "code",
   "execution_count": 15,
   "id": "1a227792",
   "metadata": {},
   "outputs": [],
   "source": [
    "reviews.region_2 = reviews.region_2.fillna(\"Unkown\")"
   ]
  },
  {
   "cell_type": "code",
   "execution_count": 16,
   "id": "579c274f",
   "metadata": {},
   "outputs": [
    {
     "data": {
      "text/plain": [
       "0"
      ]
     },
     "execution_count": 16,
     "metadata": {},
     "output_type": "execute_result"
    }
   ],
   "source": [
    "reviews.region_2.isnull().sum()"
   ]
  },
  {
   "cell_type": "code",
   "execution_count": 17,
   "id": "c8d06ea9",
   "metadata": {},
   "outputs": [
    {
     "data": {
      "text/plain": [
       "Unkown                     89977\n",
       "Central Coast              13057\n",
       "Sonoma                     11258\n",
       "Columbia Valley             9157\n",
       "Napa                        8801\n",
       "California Other            3516\n",
       "Willamette Valley           3181\n",
       "Mendocino/Lake Counties     2389\n",
       "Sierra Foothills            1660\n",
       "Napa-Sonoma                 1645\n",
       "Finger Lakes                1510\n",
       "Central Valley              1115\n",
       "Long Island                  771\n",
       "Southern Oregon              662\n",
       "Oregon Other                 661\n",
       "North Coast                  632\n",
       "Washington Other             593\n",
       "South Coast                  198\n",
       "New York Other               147\n",
       "Name: region_2, dtype: int64"
      ]
     },
     "execution_count": 17,
     "metadata": {},
     "output_type": "execute_result"
    }
   ],
   "source": [
    "reviews.region_2.value_counts()"
   ]
  },
  {
   "cell_type": "code",
   "execution_count": 19,
   "id": "19922175",
   "metadata": {},
   "outputs": [],
   "source": [
    "reviews.region_2 = reviews.region_2.replace(\"Unkown\",\"not_found\")"
   ]
  },
  {
   "cell_type": "code",
   "execution_count": 20,
   "id": "36bb1064",
   "metadata": {},
   "outputs": [
    {
     "data": {
      "text/plain": [
       "not_found                  89977\n",
       "Central Coast              13057\n",
       "Sonoma                     11258\n",
       "Columbia Valley             9157\n",
       "Napa                        8801\n",
       "California Other            3516\n",
       "Willamette Valley           3181\n",
       "Mendocino/Lake Counties     2389\n",
       "Sierra Foothills            1660\n",
       "Napa-Sonoma                 1645\n",
       "Finger Lakes                1510\n",
       "Central Valley              1115\n",
       "Long Island                  771\n",
       "Southern Oregon              662\n",
       "Oregon Other                 661\n",
       "North Coast                  632\n",
       "Washington Other             593\n",
       "South Coast                  198\n",
       "New York Other               147\n",
       "Name: region_2, dtype: int64"
      ]
     },
     "execution_count": 20,
     "metadata": {},
     "output_type": "execute_result"
    }
   ],
   "source": [
    "reviews.region_2.value_counts()"
   ]
  },
  {
   "cell_type": "code",
   "execution_count": null,
   "id": "618189fd",
   "metadata": {},
   "outputs": [],
   "source": []
  }
 ],
 "metadata": {
  "kernelspec": {
   "display_name": "Python 3 (ipykernel)",
   "language": "python",
   "name": "python3"
  },
  "language_info": {
   "codemirror_mode": {
    "name": "ipython",
    "version": 3
   },
   "file_extension": ".py",
   "mimetype": "text/x-python",
   "name": "python",
   "nbconvert_exporter": "python",
   "pygments_lexer": "ipython3",
   "version": "3.9.13"
  }
 },
 "nbformat": 4,
 "nbformat_minor": 5
}
